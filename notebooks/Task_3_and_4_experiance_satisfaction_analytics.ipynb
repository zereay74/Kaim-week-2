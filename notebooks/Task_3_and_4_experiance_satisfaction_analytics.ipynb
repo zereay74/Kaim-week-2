{
 "cells": [
  {
   "cell_type": "markdown",
   "metadata": {},
   "source": [
    "# Imports"
   ]
  },
  {
   "cell_type": "code",
   "execution_count": 7,
   "metadata": {},
   "outputs": [],
   "source": [
    "import os \n",
    "import sys\n",
    "import pandas as pd\n",
    "import psycopg2 \n",
    "from dotenv import load_dotenv\n",
    "from sqlalchemy import create_engine"
   ]
  },
  {
   "cell_type": "code",
   "execution_count": 8,
   "metadata": {},
   "outputs": [],
   "source": [
    "import warnings\n",
    "# Ignore all warnings\n",
    "warnings.filterwarnings(\"ignore\")"
   ]
  },
  {
   "cell_type": "code",
   "execution_count": 9,
   "metadata": {},
   "outputs": [],
   "source": [
    "current_dir = os.getcwd()\n",
    "parent_dir = os.path.dirname(current_dir)\n",
    "sys.path.insert(0,parent_dir)"
   ]
  },
  {
   "cell_type": "code",
   "execution_count": 10,
   "metadata": {},
   "outputs": [
    {
     "data": {
      "text/plain": [
       "<module 'scripts.analysis_3' from 'c:\\\\ML and DS Files\\\\Kifiya AI\\\\Kaim-week-2\\\\scripts\\\\analysis_3.py'>"
      ]
     },
     "execution_count": 10,
     "metadata": {},
     "output_type": "execute_result"
    }
   ],
   "source": [
    "from importlib import reload\n",
    "import scripts.data_loader, scripts.clean_and_transform, scripts.analysis_1, scripts.visualization, scripts.analysis_2, scripts.analysis_3\n",
    "reload(scripts.data_loader)\n",
    "reload(scripts.clean_and_transform)\n",
    "reload(scripts.analysis_1)\n",
    "reload(scripts.analysis_2)\n",
    "reload(scripts.visualization)\n",
    "reload(scripts.analysis_3)"
   ]
  },
  {
   "cell_type": "code",
   "execution_count": 11,
   "metadata": {},
   "outputs": [],
   "source": [
    "from scripts.data_loader import DataLoader, LoadSqlData\n",
    "from scripts.clean_and_transform import DropNullRows, NullValueFiller, DropUndefined\n",
    "from scripts.analysis_1 import UserSessionAggregator, DataDescriber, VariableTransformer, MetricsAnalyzer, DispersionAnalyzer, PCAAnalyzer, HandsetAnalysis\n",
    "from scripts.analysis_2 import TelecomEngagementAnalysis\n",
    "from scripts.analysis_3 import TelecomAnalysis, SatisfactionAnalysis, PostgreSQLExporter\n",
    "from scripts.visualization import UnivariateAnalyzer, BivariateAnalyzer, CorrelationAnalyzer"
   ]
  },
  {
   "cell_type": "markdown",
   "metadata": {},
   "source": [
    "# Load data from postgreSQL"
   ]
  },
  {
   "cell_type": "code",
   "execution_count": 12,
   "metadata": {},
   "outputs": [
    {
     "name": "stdout",
     "output_type": "stream",
     "text": [
      "Sucessfully Loaded\n"
     ]
    },
    {
     "data": {
      "text/html": [
       "<div>\n",
       "<style scoped>\n",
       "    .dataframe tbody tr th:only-of-type {\n",
       "        vertical-align: middle;\n",
       "    }\n",
       "\n",
       "    .dataframe tbody tr th {\n",
       "        vertical-align: top;\n",
       "    }\n",
       "\n",
       "    .dataframe thead th {\n",
       "        text-align: right;\n",
       "    }\n",
       "</style>\n",
       "<table border=\"1\" class=\"dataframe\">\n",
       "  <thead>\n",
       "    <tr style=\"text-align: right;\">\n",
       "      <th></th>\n",
       "      <th>Bearer Id</th>\n",
       "      <th>Start</th>\n",
       "      <th>Start ms</th>\n",
       "      <th>End</th>\n",
       "      <th>End ms</th>\n",
       "      <th>Dur. (ms)</th>\n",
       "      <th>IMSI</th>\n",
       "      <th>MSISDN/Number</th>\n",
       "      <th>IMEI</th>\n",
       "      <th>Last Location Name</th>\n",
       "      <th>...</th>\n",
       "      <th>Youtube DL (Bytes)</th>\n",
       "      <th>Youtube UL (Bytes)</th>\n",
       "      <th>Netflix DL (Bytes)</th>\n",
       "      <th>Netflix UL (Bytes)</th>\n",
       "      <th>Gaming DL (Bytes)</th>\n",
       "      <th>Gaming UL (Bytes)</th>\n",
       "      <th>Other DL (Bytes)</th>\n",
       "      <th>Other UL (Bytes)</th>\n",
       "      <th>Total UL (Bytes)</th>\n",
       "      <th>Total DL (Bytes)</th>\n",
       "    </tr>\n",
       "  </thead>\n",
       "  <tbody>\n",
       "    <tr>\n",
       "      <th>0</th>\n",
       "      <td>1.311448e+19</td>\n",
       "      <td>4/4/2019 12:01</td>\n",
       "      <td>770.0</td>\n",
       "      <td>4/25/2019 14:35</td>\n",
       "      <td>662.0</td>\n",
       "      <td>1823652.0</td>\n",
       "      <td>2.082014e+14</td>\n",
       "      <td>3.366496e+10</td>\n",
       "      <td>3.552121e+13</td>\n",
       "      <td>9.16456699548519E+015</td>\n",
       "      <td>...</td>\n",
       "      <td>15854611.0</td>\n",
       "      <td>2501332.0</td>\n",
       "      <td>8198936.0</td>\n",
       "      <td>9656251.0</td>\n",
       "      <td>278082303.0</td>\n",
       "      <td>14344150.0</td>\n",
       "      <td>171744450.0</td>\n",
       "      <td>8814393.0</td>\n",
       "      <td>36749741.0</td>\n",
       "      <td>308879636.0</td>\n",
       "    </tr>\n",
       "    <tr>\n",
       "      <th>1</th>\n",
       "      <td>1.311448e+19</td>\n",
       "      <td>4/9/2019 13:04</td>\n",
       "      <td>235.0</td>\n",
       "      <td>4/25/2019 8:15</td>\n",
       "      <td>606.0</td>\n",
       "      <td>1365104.0</td>\n",
       "      <td>2.082019e+14</td>\n",
       "      <td>3.368185e+10</td>\n",
       "      <td>3.579401e+13</td>\n",
       "      <td>L77566A</td>\n",
       "      <td>...</td>\n",
       "      <td>20247395.0</td>\n",
       "      <td>19111729.0</td>\n",
       "      <td>18338413.0</td>\n",
       "      <td>17227132.0</td>\n",
       "      <td>608750074.0</td>\n",
       "      <td>1170709.0</td>\n",
       "      <td>526904238.0</td>\n",
       "      <td>15055145.0</td>\n",
       "      <td>53800391.0</td>\n",
       "      <td>653384965.0</td>\n",
       "    </tr>\n",
       "    <tr>\n",
       "      <th>2</th>\n",
       "      <td>1.311448e+19</td>\n",
       "      <td>4/9/2019 17:42</td>\n",
       "      <td>1.0</td>\n",
       "      <td>4/25/2019 11:58</td>\n",
       "      <td>652.0</td>\n",
       "      <td>1361762.0</td>\n",
       "      <td>2.082003e+14</td>\n",
       "      <td>3.376063e+10</td>\n",
       "      <td>3.528151e+13</td>\n",
       "      <td>D42335A</td>\n",
       "      <td>...</td>\n",
       "      <td>19725661.0</td>\n",
       "      <td>14699576.0</td>\n",
       "      <td>17587794.0</td>\n",
       "      <td>6163408.0</td>\n",
       "      <td>229584621.0</td>\n",
       "      <td>395630.0</td>\n",
       "      <td>410692588.0</td>\n",
       "      <td>4215763.0</td>\n",
       "      <td>27883638.0</td>\n",
       "      <td>279807335.0</td>\n",
       "    </tr>\n",
       "    <tr>\n",
       "      <th>3</th>\n",
       "      <td>1.311448e+19</td>\n",
       "      <td>4/10/2019 0:31</td>\n",
       "      <td>486.0</td>\n",
       "      <td>4/25/2019 7:36</td>\n",
       "      <td>171.0</td>\n",
       "      <td>1321509.0</td>\n",
       "      <td>2.082014e+14</td>\n",
       "      <td>3.375034e+10</td>\n",
       "      <td>3.535661e+13</td>\n",
       "      <td>T21824A</td>\n",
       "      <td>...</td>\n",
       "      <td>21388122.0</td>\n",
       "      <td>15146643.0</td>\n",
       "      <td>13994646.0</td>\n",
       "      <td>1097942.0</td>\n",
       "      <td>799538153.0</td>\n",
       "      <td>10849722.0</td>\n",
       "      <td>749039933.0</td>\n",
       "      <td>12797283.0</td>\n",
       "      <td>43324218.0</td>\n",
       "      <td>846028530.0</td>\n",
       "    </tr>\n",
       "    <tr>\n",
       "      <th>4</th>\n",
       "      <td>1.311448e+19</td>\n",
       "      <td>4/12/2019 20:10</td>\n",
       "      <td>565.0</td>\n",
       "      <td>4/25/2019 10:40</td>\n",
       "      <td>954.0</td>\n",
       "      <td>1089009.0</td>\n",
       "      <td>2.082014e+14</td>\n",
       "      <td>3.369980e+10</td>\n",
       "      <td>3.540701e+13</td>\n",
       "      <td>D88865A</td>\n",
       "      <td>...</td>\n",
       "      <td>15259380.0</td>\n",
       "      <td>18962873.0</td>\n",
       "      <td>17124581.0</td>\n",
       "      <td>415218.0</td>\n",
       "      <td>527707248.0</td>\n",
       "      <td>3529801.0</td>\n",
       "      <td>550709500.0</td>\n",
       "      <td>13910322.0</td>\n",
       "      <td>38542814.0</td>\n",
       "      <td>569138589.0</td>\n",
       "    </tr>\n",
       "  </tbody>\n",
       "</table>\n",
       "<p>5 rows × 55 columns</p>\n",
       "</div>"
      ],
      "text/plain": [
       "      Bearer Id            Start  Start ms              End  End ms  \\\n",
       "0  1.311448e+19   4/4/2019 12:01     770.0  4/25/2019 14:35   662.0   \n",
       "1  1.311448e+19   4/9/2019 13:04     235.0   4/25/2019 8:15   606.0   \n",
       "2  1.311448e+19   4/9/2019 17:42       1.0  4/25/2019 11:58   652.0   \n",
       "3  1.311448e+19   4/10/2019 0:31     486.0   4/25/2019 7:36   171.0   \n",
       "4  1.311448e+19  4/12/2019 20:10     565.0  4/25/2019 10:40   954.0   \n",
       "\n",
       "   Dur. (ms)          IMSI  MSISDN/Number          IMEI  \\\n",
       "0  1823652.0  2.082014e+14   3.366496e+10  3.552121e+13   \n",
       "1  1365104.0  2.082019e+14   3.368185e+10  3.579401e+13   \n",
       "2  1361762.0  2.082003e+14   3.376063e+10  3.528151e+13   \n",
       "3  1321509.0  2.082014e+14   3.375034e+10  3.535661e+13   \n",
       "4  1089009.0  2.082014e+14   3.369980e+10  3.540701e+13   \n",
       "\n",
       "      Last Location Name  ...  Youtube DL (Bytes)  Youtube UL (Bytes)  \\\n",
       "0  9.16456699548519E+015  ...          15854611.0           2501332.0   \n",
       "1                L77566A  ...          20247395.0          19111729.0   \n",
       "2                D42335A  ...          19725661.0          14699576.0   \n",
       "3                T21824A  ...          21388122.0          15146643.0   \n",
       "4                D88865A  ...          15259380.0          18962873.0   \n",
       "\n",
       "   Netflix DL (Bytes)  Netflix UL (Bytes)  Gaming DL (Bytes)  \\\n",
       "0           8198936.0           9656251.0        278082303.0   \n",
       "1          18338413.0          17227132.0        608750074.0   \n",
       "2          17587794.0           6163408.0        229584621.0   \n",
       "3          13994646.0           1097942.0        799538153.0   \n",
       "4          17124581.0            415218.0        527707248.0   \n",
       "\n",
       "   Gaming UL (Bytes)  Other DL (Bytes)  Other UL (Bytes)  Total UL (Bytes)  \\\n",
       "0         14344150.0       171744450.0         8814393.0        36749741.0   \n",
       "1          1170709.0       526904238.0        15055145.0        53800391.0   \n",
       "2           395630.0       410692588.0         4215763.0        27883638.0   \n",
       "3         10849722.0       749039933.0        12797283.0        43324218.0   \n",
       "4          3529801.0       550709500.0        13910322.0        38542814.0   \n",
       "\n",
       "   Total DL (Bytes)  \n",
       "0       308879636.0  \n",
       "1       653384965.0  \n",
       "2       279807335.0  \n",
       "3       846028530.0  \n",
       "4       569138589.0  \n",
       "\n",
       "[5 rows x 55 columns]"
      ]
     },
     "execution_count": 12,
     "metadata": {},
     "output_type": "execute_result"
    }
   ],
   "source": [
    "# Define your SQL query\n",
    "query = \"SELECT * FROM xdr_data\"\n",
    "# Create an instance of the LoadSqlData class\n",
    "data_loader = LoadSqlData(query)\n",
    "# Load data using psycopg2\n",
    "data= data_loader.load_data_using_sqlalchemy()\n",
    "data.head()"
   ]
  },
  {
   "cell_type": "markdown",
   "metadata": {},
   "source": [
    "# Clean the data"
   ]
  },
  {
   "cell_type": "code",
   "execution_count": 13,
   "metadata": {},
   "outputs": [
    {
     "data": {
      "text/plain": [
       "(150001, 55)"
      ]
     },
     "execution_count": 13,
     "metadata": {},
     "output_type": "execute_result"
    }
   ],
   "source": [
    "data.shape"
   ]
  },
  {
   "cell_type": "code",
   "execution_count": 14,
   "metadata": {},
   "outputs": [
    {
     "name": "stdout",
     "output_type": "stream",
     "text": [
      "Sucessfully droped undefined columns\n"
     ]
    }
   ],
   "source": [
    "# Drop  undefined values from Handset Type\n",
    "drop_undefined = DropUndefined(data)\n",
    "data = drop_undefined.DeleteUndefined(column='Handset Type', value='undefined')"
   ]
  },
  {
   "cell_type": "code",
   "execution_count": 15,
   "metadata": {},
   "outputs": [
    {
     "name": "stdout",
     "output_type": "stream",
     "text": [
      "Sucessfuly dropped null rows from ['Bearer Id', 'Start', 'End', 'IMSI', 'MSISDN/Number', 'IMEI', 'Last Location Name', 'Handset Manufacturer', 'Handset Type']\n"
     ]
    }
   ],
   "source": [
    "# drop null rows for the follwing columns\n",
    "# Bearer Id, Start, End, IMSI, MSISDN/Number, IMEI,Last Location Name, Handset Manufacturer, Handset Type\n",
    "col_1 = ['Bearer Id', 'Start', 'End', 'IMSI', 'MSISDN/Number', 'IMEI', 'Last Location Name', 'Handset Manufacturer', 'Handset Type']\n",
    "dropper = DropNullRows(columns_to_check=col_1)\n",
    "\n",
    "# Drop rows where the specified column has null values\n",
    "data = dropper.drop_if_null(data)"
   ]
  },
  {
   "cell_type": "code",
   "execution_count": 16,
   "metadata": {},
   "outputs": [],
   "source": [
    "null_columns = ['Avg RTT DL (ms)', 'Avg RTT UL (ms)', 'TCP DL Retrans. Vol (Bytes)', 'TCP UL Retrans. Vol (Bytes)', \n",
    "           'DL TP < 50 Kbps (%)','50 Kbps < DL TP < 250 Kbps (%)', '250 Kbps < DL TP < 1 Mbps (%)', 'DL TP > 1 Mbps (%)', \n",
    "           'UL TP < 10 Kbps (%)','10 Kbps < UL TP < 50 Kbps (%)', '50 Kbps < UL TP < 300 Kbps (%)', 'UL TP > 300 Kbps (%)',\n",
    "            'HTTP DL (Bytes)', 'HTTP UL (Bytes)', 'Nb of sec with 125000B < Vol DL', 'Nb of sec with 1250B < Vol UL < 6250B',\n",
    "            'Nb of sec with 31250B < Vol DL < 125000B', 'Nb of sec with 37500B < Vol UL', 'Nb of sec with 6250B < Vol DL < 31250B',\n",
    "            'Nb of sec with 6250B < Vol UL < 37500B','Nb of sec with Vol DL < 6250B', 'Nb of sec with Vol UL < 1250B']\n"
   ]
  },
  {
   "cell_type": "code",
   "execution_count": 17,
   "metadata": {},
   "outputs": [
    {
     "name": "stdout",
     "output_type": "stream",
     "text": [
      "Column 'Avg RTT DL (ms)': Filled null values with median.\n",
      "Column 'Avg RTT UL (ms)': Filled null values with median.\n",
      "Column 'TCP DL Retrans. Vol (Bytes)': Filled null values with median.\n",
      "Column 'TCP UL Retrans. Vol (Bytes)': Filled null values with median.\n",
      "Column 'DL TP < 50 Kbps (%)': Filled null values with median.\n",
      "Column '50 Kbps < DL TP < 250 Kbps (%)': Filled null values with median.\n",
      "Column '250 Kbps < DL TP < 1 Mbps (%)': Filled null values with median.\n",
      "Column 'DL TP > 1 Mbps (%)': Filled null values with median.\n",
      "Column 'UL TP < 10 Kbps (%)': Filled null values with median.\n",
      "Column '10 Kbps < UL TP < 50 Kbps (%)': Filled null values with median.\n",
      "Column '50 Kbps < UL TP < 300 Kbps (%)': Filled null values with median.\n",
      "Column 'UL TP > 300 Kbps (%)': Filled null values with median.\n",
      "Column 'HTTP DL (Bytes)': Filled null values with median.\n",
      "Column 'HTTP UL (Bytes)': Filled null values with median.\n",
      "Column 'Nb of sec with 125000B < Vol DL': Filled null values with median.\n",
      "Column 'Nb of sec with 1250B < Vol UL < 6250B': Filled null values with median.\n",
      "Column 'Nb of sec with 31250B < Vol DL < 125000B': Filled null values with median.\n",
      "Column 'Nb of sec with 37500B < Vol UL': Filled null values with median.\n",
      "Column 'Nb of sec with 6250B < Vol DL < 31250B': Filled null values with median.\n",
      "Column 'Nb of sec with 6250B < Vol UL < 37500B': Filled null values with median.\n",
      "Column 'Nb of sec with Vol DL < 6250B': Filled null values with median.\n",
      "Column 'Nb of sec with Vol UL < 1250B': Filled null values with median.\n"
     ]
    }
   ],
   "source": [
    "# Numerical null values are filled based on the outlier and normal distribution\n",
    "# Initialize the NullValueFiller class\n",
    "filler = NullValueFiller(data, null_columns)\n",
    "    \n",
    "# Fill null values based on mean/median decision\n",
    "filler.fill_nulls()"
   ]
  },
  {
   "cell_type": "code",
   "execution_count": 18,
   "metadata": {},
   "outputs": [],
   "source": [
    "data[\"Start\"] = pd.to_datetime(data[\"Start\"])\n",
    "data[\"End\"] = pd.to_datetime(data[\"End\"])"
   ]
  },
  {
   "cell_type": "code",
   "execution_count": 19,
   "metadata": {},
   "outputs": [
    {
     "name": "stdout",
     "output_type": "stream",
     "text": [
      "All columns are not null\n"
     ]
    }
   ],
   "source": [
    "null_counts = data.isnull().sum()\n",
    "if null_counts.sum() > 0:\n",
    "    print('Null value present please check the dataframe')\n",
    "else:\n",
    "    print('All columns are not null')"
   ]
  },
  {
   "cell_type": "markdown",
   "metadata": {},
   "source": [
    "# Task 3"
   ]
  },
  {
   "cell_type": "code",
   "execution_count": 20,
   "metadata": {},
   "outputs": [],
   "source": [
    "telecom_analysis = TelecomAnalysis(data)\n",
    "# Preprocess data calculate the average\n",
    "telecom_analysis.preprocess_data()"
   ]
  },
  {
   "cell_type": "code",
   "execution_count": 21,
   "metadata": {},
   "outputs": [
    {
     "name": "stdout",
     "output_type": "stream",
     "text": [
      "Aggregated Data:\n",
      "    MSISDN/Number  Avg TCP Retransmission  Avg RTT  \\\n",
      "0   3.360100e+10               638552.50    23.00   \n",
      "1   3.360100e+10               638552.50    15.50   \n",
      "2   3.360101e+10                22580.00    42.00   \n",
      "3   3.360101e+10              5004692.25    29.75   \n",
      "4   3.360101e+10               331413.25    18.50   \n",
      "\n",
      "                     Handset Type  Avg Throughput  \n",
      "0  Huawei P20 Lite Huawei Nova 3E            38.0  \n",
      "1          Apple iPhone 7 (A1778)            49.5  \n",
      "2         Apple iPhone 5S (A1457)           124.0  \n",
      "3         Apple iPhone Se (A1723)         14211.0  \n",
      "4        Samsung Galaxy A8 (2018)          1977.0  \n"
     ]
    }
   ],
   "source": [
    "# Task 3 1: Aggregate metrics per customer\n",
    "aggregated_data = telecom_analysis.aggregate_per_customer()\n",
    "print(\"Aggregated Data:\\n\", aggregated_data.head())"
   ]
  },
  {
   "cell_type": "code",
   "execution_count": 22,
   "metadata": {},
   "outputs": [
    {
     "name": "stdout",
     "output_type": "stream",
     "text": [
      "Top 10 TCP Retransmission: [4.25465964e+09 4.26017414e+09 4.26161604e+09 4.26864735e+09\n",
      " 4.27549171e+09 4.28812086e+09 4.29146495e+09 4.29443196e+09\n",
      " 4.30147744e+09 4.34411565e+09]\n",
      "Bottom 10 TCP Retransmission: [ 86.  97. 106. 108. 113. 128. 129. 134. 143. 173.]\n",
      "Most Frequent TCP Retransmission: [638552.5, 618332.5, 22844.0, 618368.5, 21552.0, 618356.5, 21606.0, 24174.0, 22832.0, 619698.5]\n",
      "Top 10 RTT: [10490.  12369.  12694.  12857.5 12961.  13150.  13639.  27424.  32320.5\n",
      " 48462. ]\n",
      "Bottom 10 RTT: [0.  0.  0.  0.  1.  2.  2.  2.5 3.  3. ]\n",
      "Most Frequent RTT: [25.0, 14.5, 19.5, 19.0, 20.0, 15.0, 14.0, 24.5, 15.5, 20.5]\n",
      "Top 10 Throughput: [132862.  134696.  137026.  138102.5 138576.  140572.  141965.5 150273.\n",
      " 156622.  191131. ]\n",
      "Bottom 10 Throughput: [0. 0. 0. 0. 0. 0. 0. 0. 0. 0.]\n",
      "Most Frequent Throughput: [31.5, 7.5, 48.5, 45.0, 49.0, 48.0, 44.5, 49.5, 46.5, 44.0]\n"
     ]
    }
   ],
   "source": [
    "# Task 3.2: Compute top, bottom, and most frequent for metrics\n",
    "for metric in ['TCP Retransmission', 'RTT', 'Throughput']:\n",
    "    top_10, bottom_10, frequent = telecom_analysis.compute_top_bottom_frequent(metric)\n",
    "    print(f\"Top 10 {metric}: {top_10}\")\n",
    "    print(f\"Bottom 10 {metric}: {bottom_10}\")\n",
    "    print(f\"Most Frequent {metric}: {frequent}\")"
   ]
  },
  {
   "cell_type": "code",
   "execution_count": 23,
   "metadata": {},
   "outputs": [
    {
     "name": "stdout",
     "output_type": "stream",
     "text": [
      "Throughput Distribution:\n",
      "                    Handset Type    Throughput\n",
      "319            Huawei B715S-23C  54497.115385\n",
      "701     New-Bund Technol. Mix 2  52605.500000\n",
      "570                      Lg G6+  50067.500000\n",
      "1387  Zyxel Communicat. Sbg3600  48675.500000\n",
      "463              Huawei Y9 2019  45869.500000\n",
      "TCP Retransmission Distribution:\n",
      "                             Handset Type  TCP Retransmission\n",
      "581                           Lg Lg-H635         905079953.5\n",
      "322                      Huawei Bln-Al10         329174592.0\n",
      "140  Asustek Asus Zenfone Selfie Zd551Kl         321658306.0\n",
      "969      Samsung Galaxy Tab S3 (Sm-T825)         202648649.8\n",
      "343                     Huawei E5776S-32         164643147.9\n"
     ]
    }
   ],
   "source": [
    "# Task 3.3: Average Distribution analysis\n",
    "throughput_distribution = telecom_analysis.distribution_analysis('Throughput', 'Handset Type')\n",
    "print(\"Throughput Distribution:\\n\", throughput_distribution.head())\n",
    "\n",
    "tcp_distribution = telecom_analysis.distribution_analysis('TCP Retransmission', 'Handset Type')\n",
    "print(\"TCP Retransmission Distribution:\\n\", tcp_distribution.head())"
   ]
  },
  {
   "cell_type": "code",
   "execution_count": 24,
   "metadata": {},
   "outputs": [
    {
     "name": "stdout",
     "output_type": "stream",
     "text": [
      "Cluster Data:\n",
      "    MSISDN/Number  Cluster\n",
      "0   3.366496e+10        0\n",
      "1   3.368185e+10        0\n",
      "2   3.376063e+10        0\n",
      "4   3.369980e+10        0\n",
      "6   3.366537e+10        0\n",
      "Cluster Centers:\n",
      " [[4.06700418e+06 5.57217476e+01 7.61541803e+03]\n",
      " [1.20325630e+09 8.50409836e+01 3.31535574e+04]\n",
      " [3.13128228e+09 7.49000000e+01 3.59612156e+04]]\n"
     ]
    }
   ],
   "source": [
    "# Task 3.4: K-means clustering\n",
    "features = ['TCP Retransmission', 'RTT', 'Throughput']\n",
    "cluster_data, cluster_centers = telecom_analysis.kmeans_clustering(features)\n",
    "print(\"Cluster Data:\\n\", cluster_data.head())\n",
    "print(\"Cluster Centers:\\n\", cluster_centers)"
   ]
  },
  {
   "cell_type": "code",
   "execution_count": 25,
   "metadata": {},
   "outputs": [
    {
     "data": {
      "image/png": "[encoded data removed]",
      "text/plain": [
       "<Figure size 800x550 with 1 Axes>"
      ]
     },
     "metadata": {},
     "output_type": "display_data"
    }
   ],
   "source": [
    "import matplotlib.pyplot as plt\n",
    "# Visualize clusters\n",
    "plt.scatter(telecom_analysis.data['TCP Retransmission'], telecom_analysis.data['Throughput'], c=telecom_analysis.data['Cluster'])\n",
    "plt.title(\"Clusters Visualization\")\n",
    "plt.xlabel(\"TCP Retransmission\")\n",
    "plt.ylabel(\"Throughput\")\n",
    "plt.show()"
   ]
  },
  {
   "cell_type": "markdown",
   "metadata": {},
   "source": [
    "\n",
    "# Task 4 Satisfaction Analysis"
   ]
  },
  {
   "cell_type": "code",
   "execution_count": 26,
   "metadata": {},
   "outputs": [
    {
     "name": "stdout",
     "output_type": "stream",
     "text": [
      "Top 10 Satisfied Customers:\n",
      "            Bearer Id               Start  Start ms                 End  \\\n",
      "34645   1.304243e+19 2019-04-25 00:09:00     100.0 2019-04-26 00:09:00   \n",
      "140813  7.277826e+18 2019-04-29 03:44:00     807.0 2019-04-30 03:44:00   \n",
      "77979   7.277826e+18 2019-04-27 02:55:00     378.0 2019-04-28 02:52:00   \n",
      "135678  1.304243e+19 2019-04-29 00:07:00     411.0 2019-04-30 00:07:00   \n",
      "3782    7.277826e+18 2019-04-24 04:42:00     318.0 2019-04-25 04:42:00   \n",
      "119684  1.304243e+19 2019-04-28 03:11:00     319.0 2019-04-29 03:11:00   \n",
      "39637   7.277826e+18 2019-04-25 03:33:00      22.0 2019-04-26 01:18:00   \n",
      "59016   7.277826e+18 2019-04-26 01:25:00     313.0 2019-04-27 01:25:00   \n",
      "76990   1.304243e+19 2019-04-27 01:34:00     550.0 2019-04-28 01:34:00   \n",
      "41209   1.304243e+19 2019-04-25 04:28:00     900.0 2019-04-26 04:28:00   \n",
      "\n",
      "        End ms  Dur. (ms)          IMSI  MSISDN/Number          IMEI  \\\n",
      "34645     57.0    86399.0  2.082015e+14   3.366045e+10  8.637690e+13   \n",
      "140813   701.0    86399.0  2.082017e+14   3.369858e+10  8.637690e+13   \n",
      "77979     69.0    86201.0  2.082017e+14   3.376211e+10  8.637690e+13   \n",
      "135678   396.0    86399.0  2.082017e+14   3.365872e+10  8.637690e+13   \n",
      "3782     268.0    86399.0  2.082017e+14   3.365871e+10  8.637690e+13   \n",
      "119684   360.0    86400.0  2.082018e+14   3.366469e+10  8.637690e+13   \n",
      "39637    868.0    78285.0  2.082010e+14   3.366491e+10  8.637690e+13   \n",
      "59016    233.0    86399.0  2.082018e+14   3.376233e+10  8.637690e+13   \n",
      "76990    510.0    86399.0  2.082010e+14   3.365828e+10  8.637690e+13   \n",
      "41209    896.0    86399.0  2.082014e+14   3.365863e+10  8.637690e+13   \n",
      "\n",
      "       Last Location Name  ...  Other UL (Bytes)  Total UL (Bytes)  \\\n",
      "34645             D92712B  ...        10472674.0        53296983.0   \n",
      "140813            T93309B  ...         7710776.0        48992455.0   \n",
      "77979             D87727C  ...         1664679.0        44685104.0   \n",
      "135678            D74293B  ...        13209413.0        54859081.0   \n",
      "3782              D21651C  ...         1139844.0        57597959.0   \n",
      "119684            D29838A  ...        15279067.0        42007232.0   \n",
      "39637             D70789C  ...         3200418.0        54479129.0   \n",
      "59016             D72963B  ...         9800808.0        37719035.0   \n",
      "76990             D71543A  ...        13297654.0        32890072.0   \n",
      "41209             D92737B  ...        13168101.0        61562640.0   \n",
      "\n",
      "        Total DL (Bytes)  TCP Retransmission    RTT  Throughput  Cluster  \\\n",
      "34645        482973210.0        4.344116e+09   55.0     92671.0        2   \n",
      "140813       316984302.0        4.301477e+09  243.0     15883.0        2   \n",
      "77979        571484509.0        4.294432e+09   58.0     56020.0        2   \n",
      "135678        98802177.0        4.291465e+09   66.5     27880.5        2   \n",
      "3782         458535973.0        4.288121e+09   40.5     47091.0        2   \n",
      "119684       191817588.0        4.275492e+09  246.0     27926.0        2   \n",
      "39637        563793777.0        4.268647e+09  226.5     27604.5        2   \n",
      "59016        375860828.0        4.261616e+09   56.5     28405.5        2   \n",
      "76990        197669192.0        4.260174e+09   59.5     24419.5        2   \n",
      "41209        769273948.0        4.254660e+09   44.0     58566.5        2   \n",
      "\n",
      "        Engagement Score  Experience Score  Satisfaction Score  \n",
      "34645       4.340049e+09      4.340049e+09        4.340049e+09  \n",
      "140813      4.297410e+09      4.297410e+09        4.297410e+09  \n",
      "77979       4.290365e+09      4.290365e+09        4.290365e+09  \n",
      "135678      4.287398e+09      4.287398e+09        4.287398e+09  \n",
      "3782        4.284054e+09      4.284054e+09        4.284054e+09  \n",
      "119684      4.271425e+09      4.271425e+09        4.271425e+09  \n",
      "39637       4.264580e+09      4.264580e+09        4.264580e+09  \n",
      "59016       4.257549e+09      4.257549e+09        4.257549e+09  \n",
      "76990       4.256107e+09      4.256107e+09        4.256107e+09  \n",
      "41209       4.250593e+09      4.250593e+09        4.250593e+09  \n",
      "\n",
      "[10 rows x 62 columns]\n"
     ]
    }
   ],
   "source": [
    "# Satisfaction Analysis\n",
    "satisfaction_analysis = SatisfactionAnalysis(telecom_analysis.data, cluster_centers)\n",
    "satisfaction_analysis.assign_scores()\n",
    "\n",
    "top_10_satisfied = satisfaction_analysis.calculate_satisfaction()\n",
    "print(\"Top 10 Satisfied Customers:\\n\", top_10_satisfied)"
   ]
  },
  {
   "cell_type": "code",
   "execution_count": 27,
   "metadata": {},
   "outputs": [
    {
     "name": "stdout",
     "output_type": "stream",
     "text": [
      "<class 'pandas.core.frame.DataFrame'>\n",
      "Index: 10 entries, 34645 to 41209\n",
      "Data columns (total 62 columns):\n",
      " #   Column                                    Non-Null Count  Dtype         \n",
      "---  ------                                    --------------  -----         \n",
      " 0   Bearer Id                                 10 non-null     float64       \n",
      " 1   Start                                     10 non-null     datetime64[ns]\n",
      " 2   Start ms                                  10 non-null     float64       \n",
      " 3   End                                       10 non-null     datetime64[ns]\n",
      " 4   End ms                                    10 non-null     float64       \n",
      " 5   Dur. (ms)                                 10 non-null     float64       \n",
      " 6   IMSI                                      10 non-null     float64       \n",
      " 7   MSISDN/Number                             10 non-null     float64       \n",
      " 8   IMEI                                      10 non-null     float64       \n",
      " 9   Last Location Name                        10 non-null     object        \n",
      " 10  Avg RTT DL (ms)                           10 non-null     float64       \n",
      " 11  Avg RTT UL (ms)                           10 non-null     float64       \n",
      " 12  Avg Bearer TP DL (kbps)                   10 non-null     float64       \n",
      " 13  Avg Bearer TP UL (kbps)                   10 non-null     float64       \n",
      " 14  TCP DL Retrans. Vol (Bytes)               10 non-null     float64       \n",
      " 15  TCP UL Retrans. Vol (Bytes)               10 non-null     float64       \n",
      " 16  DL TP < 50 Kbps (%)                       10 non-null     float64       \n",
      " 17  50 Kbps < DL TP < 250 Kbps (%)            10 non-null     float64       \n",
      " 18  250 Kbps < DL TP < 1 Mbps (%)             10 non-null     float64       \n",
      " 19  DL TP > 1 Mbps (%)                        10 non-null     float64       \n",
      " 20  UL TP < 10 Kbps (%)                       10 non-null     float64       \n",
      " 21  10 Kbps < UL TP < 50 Kbps (%)             10 non-null     float64       \n",
      " 22  50 Kbps < UL TP < 300 Kbps (%)            10 non-null     float64       \n",
      " 23  UL TP > 300 Kbps (%)                      10 non-null     float64       \n",
      " 24  HTTP DL (Bytes)                           10 non-null     float64       \n",
      " 25  HTTP UL (Bytes)                           10 non-null     float64       \n",
      " 26  Activity Duration DL (ms)                 10 non-null     float64       \n",
      " 27  Activity Duration UL (ms)                 10 non-null     float64       \n",
      " 28  Dur. (ms).1                               10 non-null     float64       \n",
      " 29  Handset Manufacturer                      10 non-null     object        \n",
      " 30  Handset Type                              10 non-null     object        \n",
      " 31  Nb of sec with 125000B < Vol DL           10 non-null     float64       \n",
      " 32  Nb of sec with 1250B < Vol UL < 6250B     10 non-null     float64       \n",
      " 33  Nb of sec with 31250B < Vol DL < 125000B  10 non-null     float64       \n",
      " 34  Nb of sec with 37500B < Vol UL            10 non-null     float64       \n",
      " 35  Nb of sec with 6250B < Vol DL < 31250B    10 non-null     float64       \n",
      " 36  Nb of sec with 6250B < Vol UL < 37500B    10 non-null     float64       \n",
      " 37  Nb of sec with Vol DL < 6250B             10 non-null     float64       \n",
      " 38  Nb of sec with Vol UL < 1250B             10 non-null     float64       \n",
      " 39  Social Media DL (Bytes)                   10 non-null     float64       \n",
      " 40  Social Media UL (Bytes)                   10 non-null     float64       \n",
      " 41  Google DL (Bytes)                         10 non-null     float64       \n",
      " 42  Google UL (Bytes)                         10 non-null     float64       \n",
      " 43  Email DL (Bytes)                          10 non-null     float64       \n",
      " 44  Email UL (Bytes)                          10 non-null     float64       \n",
      " 45  Youtube DL (Bytes)                        10 non-null     float64       \n",
      " 46  Youtube UL (Bytes)                        10 non-null     float64       \n",
      " 47  Netflix DL (Bytes)                        10 non-null     float64       \n",
      " 48  Netflix UL (Bytes)                        10 non-null     float64       \n",
      " 49  Gaming DL (Bytes)                         10 non-null     float64       \n",
      " 50  Gaming UL (Bytes)                         10 non-null     float64       \n",
      " 51  Other DL (Bytes)                          10 non-null     float64       \n",
      " 52  Other UL (Bytes)                          10 non-null     float64       \n",
      " 53  Total UL (Bytes)                          10 non-null     float64       \n",
      " 54  Total DL (Bytes)                          10 non-null     float64       \n",
      " 55  TCP Retransmission                        10 non-null     float64       \n",
      " 56  RTT                                       10 non-null     float64       \n",
      " 57  Throughput                                10 non-null     float64       \n",
      " 58  Cluster                                   10 non-null     int32         \n",
      " 59  Engagement Score                          10 non-null     float64       \n",
      " 60  Experience Score                          10 non-null     float64       \n",
      " 61  Satisfaction Score                        10 non-null     float64       \n",
      "dtypes: datetime64[ns](2), float64(56), int32(1), object(3)\n",
      "memory usage: 4.9+ KB\n"
     ]
    }
   ],
   "source": [
    "top_10_satisfied.info()"
   ]
  },
  {
   "cell_type": "code",
   "execution_count": 28,
   "metadata": {},
   "outputs": [
    {
     "name": "stdout",
     "output_type": "stream",
     "text": [
      "Regression Model Coefficients:\n",
      " [0.5 0.5]\n"
     ]
    }
   ],
   "source": [
    "# regression model\n",
    "regression_model = satisfaction_analysis.regression_model()\n",
    "print(\"Regression Model Coefficients:\\n\", regression_model.coef_)"
   ]
  },
  {
   "cell_type": "code",
   "execution_count": 29,
   "metadata": {},
   "outputs": [
    {
     "name": "stdout",
     "output_type": "stream",
     "text": [
      "Score Clusters:\n",
      "    MSISDN/Number  Score Cluster\n",
      "0   3.366496e+10              0\n",
      "1   3.368185e+10              0\n",
      "2   3.376063e+10              0\n",
      "4   3.369980e+10              0\n",
      "6   3.366537e+10              0\n"
     ]
    }
   ],
   "source": [
    "#  k-means (k=2) on the engagement & the experience score. \n",
    "score_clusters, score_cluster_centers = satisfaction_analysis.kmeans_on_scores(n_clusters=2)\n",
    "print(\"Score Clusters:\\n\", score_clusters.head())"
   ]
  },
  {
   "cell_type": "code",
   "execution_count": 30,
   "metadata": {},
   "outputs": [
    {
     "name": "stdout",
     "output_type": "stream",
     "text": [
      "Aggregated Scores per Cluster:\n",
      "    Score Cluster  Satisfaction Score  Experience Score\n",
      "0              0        7.034253e+06      7.034253e+06\n",
      "1              1        2.588539e+09      2.588539e+09\n"
     ]
    }
   ],
   "source": [
    "# Aggregate the average satisfaction & experience score per cluster\n",
    "aggregated_scores = satisfaction_analysis.aggregate_scores_per_cluster()\n",
    "print(\"Aggregated Scores per Cluster:\\n\", aggregated_scores)"
   ]
  },
  {
   "cell_type": "code",
   "execution_count": 31,
   "metadata": {},
   "outputs": [],
   "source": [
    "# Export to PostgreSQL\n",
    "exporter = PostgreSQLExporter()\n",
    "exporter.create_table(table_name='Top_10_Exported')"
   ]
  },
  {
   "cell_type": "code",
   "execution_count": 32,
   "metadata": {},
   "outputs": [
    {
     "name": "stdout",
     "output_type": "stream",
     "text": [
      "Prepared data tuples for insertion into table 'Top_10_Exported': [(208201547012294.0, 4340048647.651831, 4340048647.651831, 4340048647.651831), (208201716751685.0, 4297410434.826333, 4297410434.826333, 4297410434.826333), (208201715804654.0, 4290364961.091431, 4290364961.091431, 4290364961.091431), (208201716761234.0, 4287397945.86627, 4287397945.86627, 4287397945.86627), (208201715810548.0, 4284053856.000252, 4284053856.000252, 4284053856.000252)]\n"
     ]
    }
   ],
   "source": [
    "exporter.export_dataframe(table_name='Top_10_Exported', dataframe=top_10_satisfied)"
   ]
  },
  {
   "cell_type": "code",
   "execution_count": 33,
   "metadata": {},
   "outputs": [],
   "source": [
    "exporter.close_connection()"
   ]
  },
  {
   "cell_type": "code",
   "execution_count": 7,
   "metadata": {},
   "outputs": [],
   "source": [
    "#versions check for requirements and installed packages\n",
    "#%pip list\n"
   ]
  },
  {
   "cell_type": "code",
   "execution_count": null,
   "metadata": {},
   "outputs": [],
   "source": []
  }
 ],
 "metadata": {
  "kernelspec": {
   "display_name": "z_env",
   "language": "python",
   "name": "python3"
  },
  "language_info": {
   "codemirror_mode": {
    "name": "ipython",
    "version": 3
   },
   "file_extension": ".py",
   "mimetype": "text/x-python",
   "name": "python",
   "nbconvert_exporter": "python",
   "pygments_lexer": "ipython3",
   "version": "3.12.7"
  }
 },
 "nbformat": 4,
 "nbformat_minor": 2
}
