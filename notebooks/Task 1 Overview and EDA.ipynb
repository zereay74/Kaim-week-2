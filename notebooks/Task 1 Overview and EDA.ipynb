{
 "cells": [
  {
   "cell_type": "markdown",
   "metadata": {},
   "source": [
    "# Import"
   ]
  },
  {
   "cell_type": "code",
   "execution_count": 23,
   "metadata": {},
   "outputs": [],
   "source": [
    "import os \n",
    "import sys\n",
    "import pandas as pd"
   ]
  },
  {
   "cell_type": "code",
   "execution_count": 49,
   "metadata": {},
   "outputs": [
    {
     "name": "stdout",
     "output_type": "stream",
     "text": [
      "c:\\ML and DS Files\\Kifiya AI\\Kaim-week-2\\notebooks\n",
      "c:\\ML and DS Files\\Kifiya AI\\Kaim-week-2\n"
     ]
    }
   ],
   "source": [
    "current_dir = os.getcwd()\n",
    "print(current_dir)\n",
    "\n",
    "parent_dir = os.path.dirname(current_dir)\n",
    "print(parent_dir)\n",
    "\n",
    "sys.path.insert(0,parent_dir)"
   ]
  },
  {
   "cell_type": "code",
   "execution_count": 60,
   "metadata": {},
   "outputs": [
    {
     "data": {
      "text/plain": [
       "<module 'scripts.visualization' from 'c:\\\\ML and DS Files\\\\Kifiya AI\\\\Kaim-week-2\\\\scripts\\\\visualization.py'>"
      ]
     },
     "execution_count": 60,
     "metadata": {},
     "output_type": "execute_result"
    }
   ],
   "source": [
    "from importlib import reload\n",
    "import scripts.data_loader, scripts.clean_and_transform, scripts.analysis_1, scripts.visualization\n",
    "reload(scripts.data_loader)\n",
    "reload(scripts.clean_and_transform)\n",
    "reload(scripts.analysis_1)\n",
    "reload(scripts.visualization)"
   ]
  },
  {
   "cell_type": "code",
   "execution_count": 61,
   "metadata": {},
   "outputs": [],
   "source": [
    "from scripts.data_loader import DataLoader\n",
    "from scripts.clean_and_transform import DropNullRows, NullValueFiller\n",
    "from scripts.analysis_1 import UserSessionAggregator, DataDescriber, VariableTransformer, MetricsAnalyzer, DispersionAnalyzer, PCAAnalyzer\n",
    "from scripts.visualization import UnivariateAnalyzer, BivariateAnalyzer, CorrelationAnalyzer"
   ]
  },
  {
   "cell_type": "markdown",
   "metadata": {},
   "source": [
    "#  Load data"
   ]
  },
  {
   "cell_type": "code",
   "execution_count": 27,
   "metadata": {},
   "outputs": [
    {
     "name": "stdout",
     "output_type": "stream",
     "text": [
      "Data successfully loaded from C:\\ML and DS Files\\Kifiya AI\\Kaim-week-2\\Week 2 data\\Data\\Copy of Week2_challenge_data_source(CSV).csv\n"
     ]
    }
   ],
   "source": [
    "file_path = r\"C:\\ML and DS Files\\Kifiya AI\\Kaim-week-2\\Week 2 data\\Data\\Copy of Week2_challenge_data_source(CSV).csv\"\n",
    "loader = DataLoader(file_path)\n",
    "data = loader.load_data()"
   ]
  },
  {
   "cell_type": "code",
   "execution_count": 28,
   "metadata": {},
   "outputs": [
    {
     "data": {
      "text/html": [
       "<div>\n",
       "<style scoped>\n",
       "    .dataframe tbody tr th:only-of-type {\n",
       "        vertical-align: middle;\n",
       "    }\n",
       "\n",
       "    .dataframe tbody tr th {\n",
       "        vertical-align: top;\n",
       "    }\n",
       "\n",
       "    .dataframe thead th {\n",
       "        text-align: right;\n",
       "    }\n",
       "</style>\n",
       "<table border=\"1\" class=\"dataframe\">\n",
       "  <thead>\n",
       "    <tr style=\"text-align: right;\">\n",
       "      <th></th>\n",
       "      <th>Bearer Id</th>\n",
       "      <th>Start</th>\n",
       "      <th>Start ms</th>\n",
       "      <th>End</th>\n",
       "      <th>End ms</th>\n",
       "      <th>Dur. (ms)</th>\n",
       "      <th>IMSI</th>\n",
       "      <th>MSISDN/Number</th>\n",
       "      <th>IMEI</th>\n",
       "      <th>Last Location Name</th>\n",
       "      <th>...</th>\n",
       "      <th>Youtube DL (Bytes)</th>\n",
       "      <th>Youtube UL (Bytes)</th>\n",
       "      <th>Netflix DL (Bytes)</th>\n",
       "      <th>Netflix UL (Bytes)</th>\n",
       "      <th>Gaming DL (Bytes)</th>\n",
       "      <th>Gaming UL (Bytes)</th>\n",
       "      <th>Other DL (Bytes)</th>\n",
       "      <th>Other UL (Bytes)</th>\n",
       "      <th>Total UL (Bytes)</th>\n",
       "      <th>Total DL (Bytes)</th>\n",
       "    </tr>\n",
       "  </thead>\n",
       "  <tbody>\n",
       "    <tr>\n",
       "      <th>0</th>\n",
       "      <td>1.311448e+19</td>\n",
       "      <td>4/4/2019 12:01</td>\n",
       "      <td>770.0</td>\n",
       "      <td>4/25/2019 14:35</td>\n",
       "      <td>662.0</td>\n",
       "      <td>1823652.0</td>\n",
       "      <td>2.082014e+14</td>\n",
       "      <td>3.366496e+10</td>\n",
       "      <td>3.552121e+13</td>\n",
       "      <td>9.16456699548519E+015</td>\n",
       "      <td>...</td>\n",
       "      <td>15854611.0</td>\n",
       "      <td>2501332.0</td>\n",
       "      <td>8198936.0</td>\n",
       "      <td>9656251.0</td>\n",
       "      <td>278082303.0</td>\n",
       "      <td>14344150.0</td>\n",
       "      <td>171744450.0</td>\n",
       "      <td>8814393.0</td>\n",
       "      <td>36749741.0</td>\n",
       "      <td>308879636.0</td>\n",
       "    </tr>\n",
       "    <tr>\n",
       "      <th>1</th>\n",
       "      <td>1.311448e+19</td>\n",
       "      <td>4/9/2019 13:04</td>\n",
       "      <td>235.0</td>\n",
       "      <td>4/25/2019 8:15</td>\n",
       "      <td>606.0</td>\n",
       "      <td>1365104.0</td>\n",
       "      <td>2.082019e+14</td>\n",
       "      <td>3.368185e+10</td>\n",
       "      <td>3.579401e+13</td>\n",
       "      <td>L77566A</td>\n",
       "      <td>...</td>\n",
       "      <td>20247395.0</td>\n",
       "      <td>19111729.0</td>\n",
       "      <td>18338413.0</td>\n",
       "      <td>17227132.0</td>\n",
       "      <td>608750074.0</td>\n",
       "      <td>1170709.0</td>\n",
       "      <td>526904238.0</td>\n",
       "      <td>15055145.0</td>\n",
       "      <td>53800391.0</td>\n",
       "      <td>653384965.0</td>\n",
       "    </tr>\n",
       "  </tbody>\n",
       "</table>\n",
       "<p>2 rows × 55 columns</p>\n",
       "</div>"
      ],
      "text/plain": [
       "      Bearer Id           Start  Start ms              End  End ms  Dur. (ms)  \\\n",
       "0  1.311448e+19  4/4/2019 12:01     770.0  4/25/2019 14:35   662.0  1823652.0   \n",
       "1  1.311448e+19  4/9/2019 13:04     235.0   4/25/2019 8:15   606.0  1365104.0   \n",
       "\n",
       "           IMSI  MSISDN/Number          IMEI     Last Location Name  ...  \\\n",
       "0  2.082014e+14   3.366496e+10  3.552121e+13  9.16456699548519E+015  ...   \n",
       "1  2.082019e+14   3.368185e+10  3.579401e+13                L77566A  ...   \n",
       "\n",
       "   Youtube DL (Bytes)  Youtube UL (Bytes)  Netflix DL (Bytes)  \\\n",
       "0          15854611.0           2501332.0           8198936.0   \n",
       "1          20247395.0          19111729.0          18338413.0   \n",
       "\n",
       "   Netflix UL (Bytes)  Gaming DL (Bytes)  Gaming UL (Bytes)  Other DL (Bytes)  \\\n",
       "0           9656251.0        278082303.0         14344150.0       171744450.0   \n",
       "1          17227132.0        608750074.0          1170709.0       526904238.0   \n",
       "\n",
       "   Other UL (Bytes)  Total UL (Bytes)  Total DL (Bytes)  \n",
       "0         8814393.0        36749741.0       308879636.0  \n",
       "1        15055145.0        53800391.0       653384965.0  \n",
       "\n",
       "[2 rows x 55 columns]"
      ]
     },
     "execution_count": 28,
     "metadata": {},
     "output_type": "execute_result"
    }
   ],
   "source": [
    "data.head(2)"
   ]
  },
  {
   "cell_type": "code",
   "execution_count": 29,
   "metadata": {},
   "outputs": [
    {
     "data": {
      "text/plain": [
       "(150001, 55)"
      ]
     },
     "execution_count": 29,
     "metadata": {},
     "output_type": "execute_result"
    }
   ],
   "source": [
    "data.shape"
   ]
  },
  {
   "cell_type": "code",
   "execution_count": 30,
   "metadata": {},
   "outputs": [
    {
     "name": "stdout",
     "output_type": "stream",
     "text": [
      "Sucessfuly dropped null rows from ['Bearer Id', 'Start', 'End', 'IMSI', 'MSISDN/Number', 'IMEI', 'Last Location Name', 'Handset Manufacturer', 'Handset Type']\n"
     ]
    }
   ],
   "source": [
    "# drop null rows for the follwing columns\n",
    "# Bearer Id, Start, End, IMSI, MSISDN/Number, IMEI,Last Location Name, Handset Manufacturer, Handset Type\n",
    "dropper = DropNullRows(columns_to_check=['Bearer Id', 'Start', 'End', 'IMSI', 'MSISDN/Number', 'IMEI', 'Last Location Name', 'Handset Manufacturer', 'Handset Type'])\n",
    "\n",
    "# Drop rows where the specified column has null values\n",
    "data = dropper.drop_if_null(data)"
   ]
  },
  {
   "cell_type": "code",
   "execution_count": 31,
   "metadata": {},
   "outputs": [
    {
     "data": {
      "text/plain": [
       "(148346, 55)"
      ]
     },
     "execution_count": 31,
     "metadata": {},
     "output_type": "execute_result"
    }
   ],
   "source": [
    "data.shape"
   ]
  },
  {
   "cell_type": "code",
   "execution_count": 32,
   "metadata": {},
   "outputs": [],
   "source": [
    "null_columns = ['Avg RTT DL (ms)', 'Avg RTT UL (ms)', 'TCP DL Retrans. Vol (Bytes)', 'TCP UL Retrans. Vol (Bytes)', \n",
    "           'DL TP < 50 Kbps (%)','50 Kbps < DL TP < 250 Kbps (%)', '250 Kbps < DL TP < 1 Mbps (%)', 'DL TP > 1 Mbps (%)', \n",
    "           'UL TP < 10 Kbps (%)','10 Kbps < UL TP < 50 Kbps (%)', '50 Kbps < UL TP < 300 Kbps (%)', 'UL TP > 300 Kbps (%)',\n",
    "            'HTTP DL (Bytes)', 'HTTP UL (Bytes)', 'Nb of sec with 125000B < Vol DL', 'Nb of sec with 1250B < Vol UL < 6250B',\n",
    "            'Nb of sec with 31250B < Vol DL < 125000B', 'Nb of sec with 37500B < Vol UL', 'Nb of sec with 6250B < Vol DL < 31250B',\n",
    "            'Nb of sec with 6250B < Vol UL < 37500B','Nb of sec with Vol DL < 6250B', 'Nb of sec with Vol UL < 1250B']\n"
   ]
  },
  {
   "cell_type": "markdown",
   "metadata": {},
   "source": [
    "#  Numerical null values are filled based on the outlier and normal distribution"
   ]
  },
  {
   "cell_type": "code",
   "execution_count": 33,
   "metadata": {},
   "outputs": [
    {
     "name": "stderr",
     "output_type": "stream",
     "text": [
      "c:\\Users\\z_user\\anaconda3\\envs\\z_env\\Lib\\site-packages\\scipy\\stats\\_axis_nan_policy.py:573: UserWarning: scipy.stats.shapiro: For N > 5000, computed p-value may not be accurate. Current N is 120748.\n",
      "  res = hypotest_fun_out(*samples, **kwds)\n",
      "c:\\ML and DS Files\\Kifiya AI\\Kaim-week-2\\scripts\\clean_and_transform.py:72: FutureWarning: A value is trying to be set on a copy of a DataFrame or Series through chained assignment using an inplace method.\n",
      "The behavior will change in pandas 3.0. This inplace method will never work because the intermediate object on which we are setting values always behaves as a copy.\n",
      "\n",
      "For example, when doing 'df[col].method(value, inplace=True)', try using 'df.method({col: value}, inplace=True)' or df[col] = df[col].method(value) instead, to perform the operation inplace on the original object.\n",
      "\n",
      "\n",
      "  self.df[column].fillna(fill_value, inplace=True)\n",
      "c:\\Users\\z_user\\anaconda3\\envs\\z_env\\Lib\\site-packages\\scipy\\stats\\_axis_nan_policy.py:573: UserWarning: scipy.stats.shapiro: For N > 5000, computed p-value may not be accurate. Current N is 120768.\n",
      "  res = hypotest_fun_out(*samples, **kwds)\n",
      "c:\\Users\\z_user\\anaconda3\\envs\\z_env\\Lib\\site-packages\\scipy\\stats\\_axis_nan_policy.py:573: UserWarning: scipy.stats.shapiro: For N > 5000, computed p-value may not be accurate. Current N is 60665.\n",
      "  res = hypotest_fun_out(*samples, **kwds)\n",
      "c:\\Users\\z_user\\anaconda3\\envs\\z_env\\Lib\\site-packages\\scipy\\stats\\_axis_nan_policy.py:573: UserWarning: scipy.stats.shapiro: For N > 5000, computed p-value may not be accurate. Current N is 52317.\n",
      "  res = hypotest_fun_out(*samples, **kwds)\n",
      "c:\\Users\\z_user\\anaconda3\\envs\\z_env\\Lib\\site-packages\\scipy\\stats\\_axis_nan_policy.py:573: UserWarning: scipy.stats.shapiro: For N > 5000, computed p-value may not be accurate. Current N is 147658.\n",
      "  res = hypotest_fun_out(*samples, **kwds)\n"
     ]
    },
    {
     "name": "stdout",
     "output_type": "stream",
     "text": [
      "Column 'Avg RTT DL (ms)': Filled null values with median.\n",
      "Column 'Avg RTT UL (ms)': Filled null values with median.\n",
      "Column 'TCP DL Retrans. Vol (Bytes)': Filled null values with median.\n",
      "Column 'TCP UL Retrans. Vol (Bytes)': Filled null values with median.\n",
      "Column 'DL TP < 50 Kbps (%)': Filled null values with median.\n",
      "Column '50 Kbps < DL TP < 250 Kbps (%)': Filled null values with median.\n",
      "Column '250 Kbps < DL TP < 1 Mbps (%)': Filled null values with median.\n",
      "Column 'DL TP > 1 Mbps (%)': Filled null values with median.\n",
      "Column 'UL TP < 10 Kbps (%)': Filled null values with median.\n",
      "Column '10 Kbps < UL TP < 50 Kbps (%)': Filled null values with median.\n",
      "Column '50 Kbps < UL TP < 300 Kbps (%)': Filled null values with median.\n",
      "Column 'UL TP > 300 Kbps (%)': Filled null values with median.\n",
      "Column 'HTTP DL (Bytes)': Filled null values with median.\n"
     ]
    },
    {
     "name": "stderr",
     "output_type": "stream",
     "text": [
      "c:\\Users\\z_user\\anaconda3\\envs\\z_env\\Lib\\site-packages\\scipy\\stats\\_axis_nan_policy.py:573: UserWarning: scipy.stats.shapiro: For N > 5000, computed p-value may not be accurate. Current N is 147581.\n",
      "  res = hypotest_fun_out(*samples, **kwds)\n",
      "c:\\Users\\z_user\\anaconda3\\envs\\z_env\\Lib\\site-packages\\scipy\\stats\\_axis_nan_policy.py:573: UserWarning: scipy.stats.shapiro: For N > 5000, computed p-value may not be accurate. Current N is 67289.\n",
      "  res = hypotest_fun_out(*samples, **kwds)\n",
      "c:\\Users\\z_user\\anaconda3\\envs\\z_env\\Lib\\site-packages\\scipy\\stats\\_axis_nan_policy.py:573: UserWarning: scipy.stats.shapiro: For N > 5000, computed p-value may not be accurate. Current N is 66934.\n",
      "  res = hypotest_fun_out(*samples, **kwds)\n"
     ]
    },
    {
     "name": "stdout",
     "output_type": "stream",
     "text": [
      "Column 'HTTP UL (Bytes)': Filled null values with median.\n",
      "Column 'Nb of sec with 125000B < Vol DL': Filled null values with median.\n",
      "Column 'Nb of sec with 1250B < Vol UL < 6250B': Filled null values with median.\n",
      "Column 'Nb of sec with 31250B < Vol DL < 125000B': Filled null values with median.\n",
      "Column 'Nb of sec with 37500B < Vol UL': Filled null values with median.\n",
      "Column 'Nb of sec with 6250B < Vol DL < 31250B': Filled null values with median.\n",
      "Column 'Nb of sec with 6250B < Vol UL < 37500B': Filled null values with median.\n"
     ]
    },
    {
     "name": "stderr",
     "output_type": "stream",
     "text": [
      "c:\\Users\\z_user\\anaconda3\\envs\\z_env\\Lib\\site-packages\\scipy\\stats\\_axis_nan_policy.py:573: UserWarning: scipy.stats.shapiro: For N > 5000, computed p-value may not be accurate. Current N is 51673.\n",
      "  res = hypotest_fun_out(*samples, **kwds)\n",
      "c:\\Users\\z_user\\anaconda3\\envs\\z_env\\Lib\\site-packages\\scipy\\stats\\_axis_nan_policy.py:573: UserWarning: scipy.stats.shapiro: For N > 5000, computed p-value may not be accurate. Current N is 56174.\n",
      "  res = hypotest_fun_out(*samples, **kwds)\n",
      "c:\\Users\\z_user\\anaconda3\\envs\\z_env\\Lib\\site-packages\\scipy\\stats\\_axis_nan_policy.py:573: UserWarning: scipy.stats.shapiro: For N > 5000, computed p-value may not be accurate. Current N is 55468.\n",
      "  res = hypotest_fun_out(*samples, **kwds)\n",
      "c:\\Users\\z_user\\anaconda3\\envs\\z_env\\Lib\\site-packages\\scipy\\stats\\_axis_nan_policy.py:573: UserWarning: scipy.stats.shapiro: For N > 5000, computed p-value may not be accurate. Current N is 19546.\n",
      "  res = hypotest_fun_out(*samples, **kwds)\n",
      "c:\\Users\\z_user\\anaconda3\\envs\\z_env\\Lib\\site-packages\\scipy\\stats\\_axis_nan_policy.py:573: UserWarning: scipy.stats.shapiro: For N > 5000, computed p-value may not be accurate. Current N is 60599.\n",
      "  res = hypotest_fun_out(*samples, **kwds)\n",
      "c:\\Users\\z_user\\anaconda3\\envs\\z_env\\Lib\\site-packages\\scipy\\stats\\_axis_nan_policy.py:573: UserWarning: scipy.stats.shapiro: For N > 5000, computed p-value may not be accurate. Current N is 37672.\n",
      "  res = hypotest_fun_out(*samples, **kwds)\n",
      "c:\\Users\\z_user\\anaconda3\\envs\\z_env\\Lib\\site-packages\\scipy\\stats\\_axis_nan_policy.py:573: UserWarning: scipy.stats.shapiro: For N > 5000, computed p-value may not be accurate. Current N is 147657.\n",
      "  res = hypotest_fun_out(*samples, **kwds)\n"
     ]
    },
    {
     "name": "stdout",
     "output_type": "stream",
     "text": [
      "Column 'Nb of sec with Vol DL < 6250B': Filled null values with median.\n",
      "Column 'Nb of sec with Vol UL < 1250B': Filled null values with median.\n",
      "\n",
      "Updated DataFrame:\n",
      "           Bearer Id            Start  Start ms              End  End ms  \\\n",
      "0       1.311448e+19   4/4/2019 12:01     770.0  4/25/2019 14:35   662.0   \n",
      "1       1.311448e+19   4/9/2019 13:04     235.0   4/25/2019 8:15   606.0   \n",
      "2       1.311448e+19   4/9/2019 17:42       1.0  4/25/2019 11:58   652.0   \n",
      "3       1.311448e+19   4/10/2019 0:31     486.0   4/25/2019 7:36   171.0   \n",
      "4       1.311448e+19  4/12/2019 20:10     565.0  4/25/2019 10:40   954.0   \n",
      "...              ...              ...       ...              ...     ...   \n",
      "149995  1.304243e+19   4/29/2019 7:28     615.0   4/30/2019 0:01   407.0   \n",
      "149996  7.277826e+18   4/29/2019 7:28     451.0   4/30/2019 6:02   214.0   \n",
      "149997  7.349883e+18   4/29/2019 7:28     483.0  4/30/2019 10:41   187.0   \n",
      "149998  1.311448e+19   4/29/2019 7:28     283.0  4/30/2019 10:46   810.0   \n",
      "149999  1.311448e+19   4/29/2019 7:28     696.0  4/30/2019 10:40   327.0   \n",
      "\n",
      "        Dur. (ms)          IMSI  MSISDN/Number          IMEI  \\\n",
      "0       1823652.0  2.082014e+14   3.366496e+10  3.552121e+13   \n",
      "1       1365104.0  2.082019e+14   3.368185e+10  3.579401e+13   \n",
      "2       1361762.0  2.082003e+14   3.376063e+10  3.528151e+13   \n",
      "3       1321509.0  2.082014e+14   3.375034e+10  3.535661e+13   \n",
      "4       1089009.0  2.082014e+14   3.369980e+10  3.540701e+13   \n",
      "...           ...           ...            ...           ...   \n",
      "149995    59587.0  2.082014e+14   3.366865e+10  3.533251e+13   \n",
      "149996    81230.0  2.082022e+14   3.365069e+10  3.548311e+13   \n",
      "149997    97970.0  2.082019e+14   3.366345e+10  3.566051e+13   \n",
      "149998    98249.0  2.082017e+14   3.362189e+10  3.572121e+13   \n",
      "149999    97910.0  2.082021e+14   3.361962e+10  8.618620e+13   \n",
      "\n",
      "           Last Location Name  ...  Youtube DL (Bytes)  Youtube UL (Bytes)  \\\n",
      "0       9.16456699548519E+015  ...          15854611.0           2501332.0   \n",
      "1                     L77566A  ...          20247395.0          19111729.0   \n",
      "2                     D42335A  ...          19725661.0          14699576.0   \n",
      "3                     T21824A  ...          21388122.0          15146643.0   \n",
      "4                     D88865A  ...          15259380.0          18962873.0   \n",
      "...                       ...  ...                 ...                 ...   \n",
      "149995                T85721A  ...           6550499.0          18003146.0   \n",
      "149996                D20434A  ...          16191667.0          11763428.0   \n",
      "149997                D10223C  ...          13877234.0           8288284.0   \n",
      "149998                T51102A  ...          22660510.0           1855903.0   \n",
      "149999                L88342B  ...           8817106.0           8305402.0   \n",
      "\n",
      "        Netflix DL (Bytes)  Netflix UL (Bytes)  Gaming DL (Bytes)  \\\n",
      "0                8198936.0           9656251.0        278082303.0   \n",
      "1               18338413.0          17227132.0        608750074.0   \n",
      "2               17587794.0           6163408.0        229584621.0   \n",
      "3               13994646.0           1097942.0        799538153.0   \n",
      "4               17124581.0            415218.0        527707248.0   \n",
      "...                    ...                 ...                ...   \n",
      "149995          22468983.0           7149728.0        784435351.0   \n",
      "149996          17883703.0          19678161.0        526609673.0   \n",
      "149997          19350146.0          21293148.0        626893062.0   \n",
      "149998           9963942.0           5065760.0        553539484.0   \n",
      "149999           3322253.0          13172589.0        352536971.0   \n",
      "\n",
      "        Gaming UL (Bytes)  Other DL (Bytes)  Other UL (Bytes)  \\\n",
      "0              14344150.0       171744450.0         8814393.0   \n",
      "1               1170709.0       526904238.0        15055145.0   \n",
      "2                395630.0       410692588.0         4215763.0   \n",
      "3              10849722.0       749039933.0        12797283.0   \n",
      "4               3529801.0       550709500.0        13910322.0   \n",
      "...                   ...               ...               ...   \n",
      "149995         12724751.0       321383162.0        14890486.0   \n",
      "149996          9197207.0         3264510.0        13487416.0   \n",
      "149997          4735033.0       712180387.0         2457758.0   \n",
      "149998         13394316.0       121100856.0        11314729.0   \n",
      "149999          2529475.0       814713113.0         1406930.0   \n",
      "\n",
      "        Total UL (Bytes)  Total DL (Bytes)  \n",
      "0             36749741.0       308879636.0  \n",
      "1             53800391.0       653384965.0  \n",
      "2             27883638.0       279807335.0  \n",
      "3             43324218.0       846028530.0  \n",
      "4             38542814.0       569138589.0  \n",
      "...                  ...               ...  \n",
      "149995        53745392.0       819016468.0  \n",
      "149996        57628851.0       574175259.0  \n",
      "149997        39135081.0       666648844.0  \n",
      "149998        34912224.0       592786405.0  \n",
      "149999        29626096.0       371895920.0  \n",
      "\n",
      "[148346 rows x 55 columns]\n"
     ]
    },
    {
     "name": "stderr",
     "output_type": "stream",
     "text": [
      "c:\\Users\\z_user\\anaconda3\\envs\\z_env\\Lib\\site-packages\\scipy\\stats\\_axis_nan_policy.py:573: UserWarning: scipy.stats.shapiro: For N > 5000, computed p-value may not be accurate. Current N is 147580.\n",
      "  res = hypotest_fun_out(*samples, **kwds)\n"
     ]
    }
   ],
   "source": [
    "# Initialize the NullValueFiller class\n",
    "filler = NullValueFiller(data, null_columns)\n",
    "    \n",
    "# Fill null values based on mean/median decision\n",
    "filler.fill_nulls()\n",
    "\n",
    "print(\"\\nUpdated DataFrame:\")\n",
    "print(data)"
   ]
  },
  {
   "cell_type": "code",
   "execution_count": 34,
   "metadata": {},
   "outputs": [
    {
     "name": "stdout",
     "output_type": "stream",
     "text": [
      "Bearer Id                                   0\n",
      "Start                                       0\n",
      "Start ms                                    0\n",
      "End                                         0\n",
      "End ms                                      0\n",
      "Dur. (ms)                                   0\n",
      "IMSI                                        0\n",
      "MSISDN/Number                               0\n",
      "IMEI                                        0\n",
      "Last Location Name                          0\n",
      "Avg RTT DL (ms)                             0\n",
      "Avg RTT UL (ms)                             0\n",
      "Avg Bearer TP DL (kbps)                     0\n",
      "Avg Bearer TP UL (kbps)                     0\n",
      "TCP DL Retrans. Vol (Bytes)                 0\n",
      "TCP UL Retrans. Vol (Bytes)                 0\n",
      "DL TP < 50 Kbps (%)                         0\n",
      "50 Kbps < DL TP < 250 Kbps (%)              0\n",
      "250 Kbps < DL TP < 1 Mbps (%)               0\n",
      "DL TP > 1 Mbps (%)                          0\n",
      "UL TP < 10 Kbps (%)                         0\n",
      "10 Kbps < UL TP < 50 Kbps (%)               0\n",
      "50 Kbps < UL TP < 300 Kbps (%)              0\n",
      "UL TP > 300 Kbps (%)                        0\n",
      "HTTP DL (Bytes)                             0\n",
      "HTTP UL (Bytes)                             0\n",
      "Activity Duration DL (ms)                   0\n",
      "Activity Duration UL (ms)                   0\n",
      "Dur. (ms).1                                 0\n",
      "Handset Manufacturer                        0\n",
      "Handset Type                                0\n",
      "Nb of sec with 125000B < Vol DL             0\n",
      "Nb of sec with 1250B < Vol UL < 6250B       0\n",
      "Nb of sec with 31250B < Vol DL < 125000B    0\n",
      "Nb of sec with 37500B < Vol UL              0\n",
      "Nb of sec with 6250B < Vol DL < 31250B      0\n",
      "Nb of sec with 6250B < Vol UL < 37500B      0\n",
      "Nb of sec with Vol DL < 6250B               0\n",
      "Nb of sec with Vol UL < 1250B               0\n",
      "Social Media DL (Bytes)                     0\n",
      "Social Media UL (Bytes)                     0\n",
      "Google DL (Bytes)                           0\n",
      "Google UL (Bytes)                           0\n",
      "Email DL (Bytes)                            0\n",
      "Email UL (Bytes)                            0\n",
      "Youtube DL (Bytes)                          0\n",
      "Youtube UL (Bytes)                          0\n",
      "Netflix DL (Bytes)                          0\n",
      "Netflix UL (Bytes)                          0\n",
      "Gaming DL (Bytes)                           0\n",
      "Gaming UL (Bytes)                           0\n",
      "Other DL (Bytes)                            0\n",
      "Other UL (Bytes)                            0\n",
      "Total UL (Bytes)                            0\n",
      "Total DL (Bytes)                            0\n",
      "dtype: int64\n"
     ]
    }
   ],
   "source": [
    "null_counts = data.isnull().sum()\n",
    "print(null_counts)"
   ]
  },
  {
   "cell_type": "markdown",
   "metadata": {},
   "source": [
    "## Task 1.1  Aggrigation"
   ]
  },
  {
   "cell_type": "code",
   "execution_count": 35,
   "metadata": {},
   "outputs": [
    {
     "data": {
      "text/html": [
       "<div>\n",
       "<style scoped>\n",
       "    .dataframe tbody tr th:only-of-type {\n",
       "        vertical-align: middle;\n",
       "    }\n",
       "\n",
       "    .dataframe tbody tr th {\n",
       "        vertical-align: top;\n",
       "    }\n",
       "\n",
       "    .dataframe thead th {\n",
       "        text-align: right;\n",
       "    }\n",
       "</style>\n",
       "<table border=\"1\" class=\"dataframe\">\n",
       "  <thead>\n",
       "    <tr style=\"text-align: right;\">\n",
       "      <th></th>\n",
       "      <th>IMSI</th>\n",
       "      <th>xdr_sessions</th>\n",
       "      <th>total_session_duration</th>\n",
       "      <th>total_dl_data</th>\n",
       "      <th>total_ul_data</th>\n",
       "      <th>total_social_media_data</th>\n",
       "      <th>total_google_data</th>\n",
       "      <th>total_email_data</th>\n",
       "      <th>total_youtube_data</th>\n",
       "      <th>total_netflix_data</th>\n",
       "      <th>total_gaming_data</th>\n",
       "      <th>total_other_data</th>\n",
       "      <th>total_application_data_volume</th>\n",
       "    </tr>\n",
       "  </thead>\n",
       "  <tbody>\n",
       "    <tr>\n",
       "      <th>0</th>\n",
       "      <td>2.040471e+14</td>\n",
       "      <td>1</td>\n",
       "      <td>869844.0</td>\n",
       "      <td>78697597.0</td>\n",
       "      <td>60456049.0</td>\n",
       "      <td>1500145.0</td>\n",
       "      <td>5985089.0</td>\n",
       "      <td>2518425.0</td>\n",
       "      <td>18980320.0</td>\n",
       "      <td>21621336.0</td>\n",
       "      <td>28092282.0</td>\n",
       "      <td>389159720.0</td>\n",
       "      <td>467857317.0</td>\n",
       "    </tr>\n",
       "    <tr>\n",
       "      <th>1</th>\n",
       "      <td>2.040808e+14</td>\n",
       "      <td>1</td>\n",
       "      <td>877385.0</td>\n",
       "      <td>194828056.0</td>\n",
       "      <td>37295915.0</td>\n",
       "      <td>668596.0</td>\n",
       "      <td>8572779.0</td>\n",
       "      <td>842279.0</td>\n",
       "      <td>9839889.0</td>\n",
       "      <td>10340908.0</td>\n",
       "      <td>164563605.0</td>\n",
       "      <td>467678100.0</td>\n",
       "      <td>662506156.0</td>\n",
       "    </tr>\n",
       "    <tr>\n",
       "      <th>2</th>\n",
       "      <td>2.082001e+14</td>\n",
       "      <td>1</td>\n",
       "      <td>86019.0</td>\n",
       "      <td>31376981.0</td>\n",
       "      <td>53794658.0</td>\n",
       "      <td>3073697.0</td>\n",
       "      <td>603691.0</td>\n",
       "      <td>3076735.0</td>\n",
       "      <td>5556563.0</td>\n",
       "      <td>15305361.0</td>\n",
       "      <td>3760934.0</td>\n",
       "      <td>500044526.0</td>\n",
       "      <td>531421507.0</td>\n",
       "    </tr>\n",
       "  </tbody>\n",
       "</table>\n",
       "</div>"
      ],
      "text/plain": [
       "           IMSI  xdr_sessions  total_session_duration  total_dl_data  \\\n",
       "0  2.040471e+14             1                869844.0     78697597.0   \n",
       "1  2.040808e+14             1                877385.0    194828056.0   \n",
       "2  2.082001e+14             1                 86019.0     31376981.0   \n",
       "\n",
       "   total_ul_data  total_social_media_data  total_google_data  \\\n",
       "0     60456049.0                1500145.0          5985089.0   \n",
       "1     37295915.0                 668596.0          8572779.0   \n",
       "2     53794658.0                3073697.0           603691.0   \n",
       "\n",
       "   total_email_data  total_youtube_data  total_netflix_data  \\\n",
       "0         2518425.0          18980320.0          21621336.0   \n",
       "1          842279.0           9839889.0          10340908.0   \n",
       "2         3076735.0           5556563.0          15305361.0   \n",
       "\n",
       "   total_gaming_data  total_other_data  total_application_data_volume  \n",
       "0         28092282.0       389159720.0                    467857317.0  \n",
       "1        164563605.0       467678100.0                    662506156.0  \n",
       "2          3760934.0       500044526.0                    531421507.0  "
      ]
     },
     "execution_count": 35,
     "metadata": {},
     "output_type": "execute_result"
    }
   ],
   "source": [
    "# Instantiate the class\n",
    "aggregator = UserSessionAggregator(data)\n",
    "\n",
    "# Perform aggregation by IMSI\n",
    "aggrigated = aggregator.aggregate_per_user(user_column='IMSI')\n",
    "\n",
    "# View results\n",
    "aggrigated.head(3)"
   ]
  },
  {
   "cell_type": "code",
   "execution_count": 36,
   "metadata": {},
   "outputs": [
    {
     "data": {
      "text/plain": [
       "(106351, 13)"
      ]
     },
     "execution_count": 36,
     "metadata": {},
     "output_type": "execute_result"
    }
   ],
   "source": [
    "aggrigated.shape"
   ]
  },
  {
   "cell_type": "markdown",
   "metadata": {},
   "source": [
    "#### variable discription"
   ]
  },
  {
   "cell_type": "code",
   "execution_count": 37,
   "metadata": {},
   "outputs": [
    {
     "name": "stdout",
     "output_type": "stream",
     "text": [
      "                         Variable DataType  \\\n",
      "0                            IMSI  float64   \n",
      "1                    xdr_sessions    int64   \n",
      "2          total_session_duration  float64   \n",
      "3                   total_dl_data  float64   \n",
      "4                   total_ul_data  float64   \n",
      "5         total_social_media_data  float64   \n",
      "6               total_google_data  float64   \n",
      "7                total_email_data  float64   \n",
      "8              total_youtube_data  float64   \n",
      "9              total_netflix_data  float64   \n",
      "10              total_gaming_data  float64   \n",
      "11               total_other_data  float64   \n",
      "12  total_application_data_volume  float64   \n",
      "\n",
      "                                      Description  \n",
      "0            Bearer Id: Unique session identifier  \n",
      "1                       Start: Session start time  \n",
      "2                           End: Session end time  \n",
      "3     Dur. (ms): Session duration in milliseconds  \n",
      "4                           IMSI: User identifier  \n",
      "5         Total DL (Bytes): Total downloaded data  \n",
      "6           Total UL (Bytes): Total uploaded data  \n",
      "7                Description for total_email_data  \n",
      "8              Description for total_youtube_data  \n",
      "9              Description for total_netflix_data  \n",
      "10              Description for total_gaming_data  \n",
      "11               Description for total_other_data  \n",
      "12  Description for total_application_data_volume  \n"
     ]
    }
   ],
   "source": [
    "# Describe variables\n",
    "describer = DataDescriber(aggrigated)\n",
    "variable_description = describer.describe_variables()\n",
    "print(variable_description)"
   ]
  },
  {
   "cell_type": "markdown",
   "metadata": {},
   "source": [
    "#### "
   ]
  },
  {
   "cell_type": "markdown",
   "metadata": {},
   "source": [
    "#### Segmentation"
   ]
  },
  {
   "cell_type": "code",
   "execution_count": 38,
   "metadata": {},
   "outputs": [
    {
     "name": "stdout",
     "output_type": "stream",
     "text": [
      "  decile_class  total_users  total_dl_data  total_ul_data  total_data_dl_ul\n",
      "0     Decile 1        10636   4.974577e+12   4.483199e+11      5.422897e+12\n",
      "1     Decile 2        10635   5.596830e+12   5.046752e+11      6.101505e+12\n",
      "2     Decile 3        10635   5.913242e+12   5.356414e+11      6.448883e+12\n",
      "3     Decile 4        11808   5.400366e+12   4.889342e+11      5.889300e+12\n",
      "4     Decile 5         9462   4.835876e+12   4.385359e+11      5.274412e+12\n",
      "5     Decile 6        10635   5.869448e+12   5.302591e+11      6.399707e+12\n",
      "6     Decile 7        10635   5.614784e+12   5.033690e+11      6.118153e+12\n",
      "7     Decile 8        10635   7.149663e+12   6.506766e+11      7.800340e+12\n",
      "8     Decile 9        10635   8.512781e+12   7.682074e+11      9.280988e+12\n",
      "9    Decile 10        10635   1.358530e+13   1.231391e+12      1.481669e+13\n"
     ]
    },
    {
     "name": "stderr",
     "output_type": "stream",
     "text": [
      "c:\\ML and DS Files\\Kifiya AI\\Kaim-week-2\\scripts\\analysis_1.py:123: FutureWarning: The default of observed=False is deprecated and will be changed to True in a future version of pandas. Pass observed=False to retain current behavior or observed=True to adopt the future default and silence this warning.\n",
      "  decile_data = self.df.groupby('decile_class').agg(\n"
     ]
    }
   ],
   "source": [
    "# Perform user segmentation and compute total data per decile\n",
    "transformer = VariableTransformer(aggrigated)\n",
    "decile_data = transformer.segment_users()\n",
    "print(decile_data)"
   ]
  },
  {
   "cell_type": "markdown",
   "metadata": {},
   "source": [
    "#### Analyze basic metrics"
   ]
  },
  {
   "cell_type": "code",
   "execution_count": 39,
   "metadata": {},
   "outputs": [
    {
     "name": "stdout",
     "output_type": "stream",
     "text": [
      "{'mean': {'IMSI': 208201580149660.03, 'xdr_sessions': 1.3948716984325489, 'total_session_duration': 146642.00725898205, 'total_dl_data': 634247598.4734511, 'total_ul_data': 57357338.08331844, 'total_social_media_data': 2503987.4895957727, 'total_google_data': 8022780.764336959, 'total_email_data': 2499224.1660257075, 'total_youtube_data': 16228568.555876296, 'total_netflix_data': 16218838.393386051, 'total_gaming_data': 588774199.1042303, 'total_other_data': 587471981.6883621, 'total_application_data_volume': 1221719580.1618133}, 'median': {'IMSI': 208201546188027.0, 'xdr_sessions': 1.0, 'total_session_duration': 103248.0, 'total_dl_data': 570780866.0, 'total_ul_data': 46820524.0, 'total_social_media_data': 2267015.0, 'total_google_data': 7260559.0, 'total_email_data': 2267378.0, 'total_youtube_data': 14616444.0, 'total_netflix_data': 14646345.0, 'total_gaming_data': 533023727.0, 'total_other_data': 530316281.0, 'total_application_data_volume': 1033274207.0}, 'std': {'IMSI': 17995151959.14228, 'xdr_sessions': 0.8067204967005223, 'total_session_duration': 186117.28977220747, 'total_dl_data': 465018810.55045843, 'total_ul_data': 35686153.69974953, 'total_social_media_data': 1888212.3915763353, 'total_google_data': 6069769.12137715, 'total_email_data': 1898699.1663512753, 'total_youtube_data': 12332147.743366735, 'total_netflix_data': 12327113.569868613, 'total_gaming_data': 444467364.18413764, 'total_other_data': 444054964.7794762, 'total_application_data_volume': 811906885.150008}, 'min': {'IMSI': 204047108489451.0, 'xdr_sessions': 1.0, 'total_session_duration': 7142.0, 'total_dl_data': 8827082.0, 'total_ul_data': 2866892.0, 'total_social_media_data': 12.0, 'total_google_data': 207.0, 'total_email_data': 97.0, 'total_youtube_data': 53.0, 'total_netflix_data': 42.0, 'total_gaming_data': 2516.0, 'total_other_data': 3290.0, 'total_application_data_volume': 27297842.0}, 'max': {'IMSI': 208252167239575.0, 'xdr_sessions': 18.0, 'total_session_duration': 18553754.0, 'total_dl_data': 8156743493.0, 'total_ul_data': 729577380.0, 'total_social_media_data': 42743837.0, 'total_google_data': 116106455.0, 'total_email_data': 33607211.0, 'total_youtube_data': 237883033.0, 'total_netflix_data': 199479238.0, 'total_gaming_data': 7622035401.0, 'total_other_data': 8025476831.0, 'total_application_data_volume': 15652041034.0}}\n",
      "Mean provides an average to understand typical user behavior. Median helps to identify the central tendency while minimizing the impact of outliers. Standard deviation (std) measures variability, which is important for understanding the spread in user behavior. Min and Max values help in detecting anomalies or defining the range of data.\n"
     ]
    }
   ],
   "source": [
    "# Analyze metrics\n",
    "analyzer = MetricsAnalyzer(aggrigated)\n",
    "basic_metrics = analyzer.analyze_metrics()\n",
    "print(basic_metrics[\"metrics\"])\n",
    "print(basic_metrics[\"explanation\"])"
   ]
  },
  {
   "cell_type": "markdown",
   "metadata": {},
   "source": [
    "#### Dispersion analyzer"
   ]
  },
  {
   "cell_type": "code",
   "execution_count": 40,
   "metadata": {},
   "outputs": [
    {
     "name": "stdout",
     "output_type": "stream",
     "text": [
      "Dispersion Metrics:\n",
      "                                       Range          IQR      Variance  \\\n",
      "Variable                                                                 \n",
      "IMSI                           4.205059e+12  761725533.0  3.238255e+20   \n",
      "xdr_sessions                   1.700000e+01          1.0  6.507980e-01   \n",
      "total_session_duration         1.854661e+07     100063.5  3.463965e+10   \n",
      "total_dl_data                  8.147916e+09  492814572.5  2.162425e+17   \n",
      "total_ul_data                  7.267105e+08   29467747.0  1.273502e+15   \n",
      "total_social_media_data        4.274382e+07    2092605.0  3.565346e+12   \n",
      "total_google_data              1.161062e+08    6629851.0  3.684210e+13   \n",
      "total_email_data               3.360711e+07    2067002.0  3.605059e+12   \n",
      "total_youtube_data             2.378830e+08   13486883.5  1.520819e+14   \n",
      "total_netflix_data             1.994792e+08   13542350.5  1.519577e+14   \n",
      "total_gaming_data              7.622033e+09  487896032.0  1.975512e+17   \n",
      "total_other_data               8.025474e+09  488509020.5  1.971848e+17   \n",
      "total_application_data_volume  1.562474e+10  727123099.5  6.591928e+17   \n",
      "\n",
      "                               Standard Deviation  \n",
      "Variable                                           \n",
      "IMSI                                 1.799515e+10  \n",
      "xdr_sessions                         8.067205e-01  \n",
      "total_session_duration               1.861173e+05  \n",
      "total_dl_data                        4.650188e+08  \n",
      "total_ul_data                        3.568615e+07  \n",
      "total_social_media_data              1.888212e+06  \n",
      "total_google_data                    6.069769e+06  \n",
      "total_email_data                     1.898699e+06  \n",
      "total_youtube_data                   1.233215e+07  \n",
      "total_netflix_data                   1.232711e+07  \n",
      "total_gaming_data                    4.444674e+08  \n",
      "total_other_data                     4.440550e+08  \n",
      "total_application_data_volume        8.119069e+08  \n",
      "\n",
      "Interpretation:\n",
      " The range indicates the spread between the smallest and largest values for each variable. A large range suggests a wide variation in values. The interquartile range (IQR) focuses on the middle 50% of data, helping identify the spread while minimizing the influence of outliers. Variance and standard deviation measure the overall spread around the mean, with higher values indicating greater variability. The mean absolute deviation provides a simpler measure of average deviation from the mean, less influenced by extreme values.\n"
     ]
    }
   ],
   "source": [
    "# Initialize the analyzer\n",
    "analyzer = DispersionAnalyzer(aggrigated)\n",
    "\n",
    "# Compute dispersion metrics\n",
    "dispersion_metrics = analyzer.compute_dispersion()\n",
    "print(\"Dispersion Metrics:\\n\", dispersion_metrics)\n",
    "\n",
    "# Provide interpretation\n",
    "interpretation = analyzer.interpret_dispersion(dispersion_metrics)\n",
    "print(\"\\nInterpretation:\\n\", interpretation)"
   ]
  },
  {
   "cell_type": "markdown",
   "metadata": {},
   "source": [
    "#### Graphical analysis"
   ]
  },
  {
   "cell_type": "code",
   "execution_count": null,
   "metadata": {},
   "outputs": [
    {
     "data": {
      "image/png": "[encoded data removed]",
      "text/plain": [
       "<Figure size 800x500 with 1 Axes>"
      ]
     },
     "metadata": {},
     "output_type": "display_data"
    }
   ],
   "source": [
    "uni_analyzer = UnivariateAnalyzer(aggrigated)\n",
    "uni_analyzer.plot_variable(column='total_youtube_data')"
   ]
  },
  {
   "cell_type": "code",
   "execution_count": 53,
   "metadata": {},
   "outputs": [
    {
     "data": {
      "text/plain": [
       "Index(['IMSI', 'xdr_sessions', 'total_session_duration', 'total_dl_data',\n",
       "       'total_ul_data', 'total_social_media_data', 'total_google_data',\n",
       "       'total_email_data', 'total_youtube_data', 'total_netflix_data',\n",
       "       'total_gaming_data', 'total_other_data',\n",
       "       'total_application_data_volume'],\n",
       "      dtype='object')"
      ]
     },
     "execution_count": 53,
     "metadata": {},
     "output_type": "execute_result"
    }
   ],
   "source": [
    "aggrigated.columns"
   ]
  },
  {
   "cell_type": "code",
   "execution_count": 59,
   "metadata": {},
   "outputs": [
    {
     "data": {
      "image/png": "[encoded data removed]",
      "text/plain": [
       "<Figure size 800x500 with 1 Axes>"
      ]
     },
     "metadata": {},
     "output_type": "display_data"
    }
   ],
   "source": [
    "# Bivariate Analysis\n",
    "bi_analyzer = BivariateAnalyzer(aggrigated)\n",
    "bi_analyzer.plot_relationship(column_x='xdr_sessions', column_y='total_application_data_volume')"
   ]
  },
  {
   "cell_type": "code",
   "execution_count": null,
   "metadata": {},
   "outputs": [],
   "source": []
  }
 ],
 "metadata": {
  "kernelspec": {
   "display_name": "z_env",
   "language": "python",
   "name": "python3"
  },
  "language_info": {
   "codemirror_mode": {
    "name": "ipython",
    "version": 3
   },
   "file_extension": ".py",
   "mimetype": "text/x-python",
   "name": "python",
   "nbconvert_exporter": "python",
   "pygments_lexer": "ipython3",
   "version": "3.12.7"
  }
 },
 "nbformat": 4,
 "nbformat_minor": 2
}
