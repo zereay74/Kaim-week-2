{
 "cells": [
  {
   "cell_type": "markdown",
   "metadata": {},
   "source": [
    "# Import"
   ]
  },
  {
   "cell_type": "code",
   "execution_count": 1,
   "metadata": {},
   "outputs": [],
   "source": [
    "import os \n",
    "import sys\n",
    "import pandas as pd"
   ]
  },
  {
   "cell_type": "code",
   "execution_count": 81,
   "metadata": {},
   "outputs": [
    {
     "name": "stdout",
     "output_type": "stream",
     "text": [
      "c:\\ML and DS Files\\Kifiya AI\\Kaim-week-2\\notebooks\n",
      "c:\\ML and DS Files\\Kifiya AI\\Kaim-week-2\n"
     ]
    }
   ],
   "source": [
    "current_dir = os.getcwd()\n",
    "print(current_dir)\n",
    "\n",
    "parent_dir = os.path.dirname(current_dir)\n",
    "print(parent_dir)\n",
    "\n",
    "sys.path.insert(0,parent_dir)"
   ]
  },
  {
   "cell_type": "code",
   "execution_count": 98,
   "metadata": {},
   "outputs": [
    {
     "data": {
      "text/plain": [
       "<module 'scripts.analysis_1' from 'c:\\\\ML and DS Files\\\\Kifiya AI\\\\Kaim-week-2\\\\scripts\\\\analysis_1.py'>"
      ]
     },
     "execution_count": 98,
     "metadata": {},
     "output_type": "execute_result"
    }
   ],
   "source": [
    "from importlib import reload\n",
    "import scripts.data_loader, scripts.clean_and_transform, scripts.analysis_1\n",
    "reload(scripts.data_loader)\n",
    "reload(scripts.clean_and_transform)\n",
    "reload(scripts.analysis_1)"
   ]
  },
  {
   "cell_type": "code",
   "execution_count": 99,
   "metadata": {},
   "outputs": [],
   "source": [
    "from scripts.data_loader import DataLoader\n",
    "from scripts.clean_and_transform import DropNullRows, OutlierDetector, NullValueFiller\n",
    "from scripts.analysis_1 import UserSessionAggregator, DataDescriber, VariableTransformer, MetricsAnalyzer"
   ]
  },
  {
   "cell_type": "markdown",
   "metadata": {},
   "source": [
    "#  Load data"
   ]
  },
  {
   "cell_type": "code",
   "execution_count": 38,
   "metadata": {},
   "outputs": [
    {
     "name": "stdout",
     "output_type": "stream",
     "text": [
      "Data successfully loaded from C:\\ML and DS Files\\Kifiya AI\\Kaim-week-2\\Week 2 data\\Data\\Copy of Week2_challenge_data_source(CSV).csv\n"
     ]
    }
   ],
   "source": [
    "file_path = r\"C:\\ML and DS Files\\Kifiya AI\\Kaim-week-2\\Week 2 data\\Data\\Copy of Week2_challenge_data_source(CSV).csv\"\n",
    "loader = DataLoader(file_path)\n",
    "data = loader.load_data()"
   ]
  },
  {
   "cell_type": "code",
   "execution_count": 39,
   "metadata": {},
   "outputs": [
    {
     "data": {
      "text/html": [
       "<div>\n",
       "<style scoped>\n",
       "    .dataframe tbody tr th:only-of-type {\n",
       "        vertical-align: middle;\n",
       "    }\n",
       "\n",
       "    .dataframe tbody tr th {\n",
       "        vertical-align: top;\n",
       "    }\n",
       "\n",
       "    .dataframe thead th {\n",
       "        text-align: right;\n",
       "    }\n",
       "</style>\n",
       "<table border=\"1\" class=\"dataframe\">\n",
       "  <thead>\n",
       "    <tr style=\"text-align: right;\">\n",
       "      <th></th>\n",
       "      <th>Bearer Id</th>\n",
       "      <th>Start</th>\n",
       "      <th>Start ms</th>\n",
       "      <th>End</th>\n",
       "      <th>End ms</th>\n",
       "      <th>Dur. (ms)</th>\n",
       "      <th>IMSI</th>\n",
       "      <th>MSISDN/Number</th>\n",
       "      <th>IMEI</th>\n",
       "      <th>Last Location Name</th>\n",
       "      <th>...</th>\n",
       "      <th>Youtube DL (Bytes)</th>\n",
       "      <th>Youtube UL (Bytes)</th>\n",
       "      <th>Netflix DL (Bytes)</th>\n",
       "      <th>Netflix UL (Bytes)</th>\n",
       "      <th>Gaming DL (Bytes)</th>\n",
       "      <th>Gaming UL (Bytes)</th>\n",
       "      <th>Other DL (Bytes)</th>\n",
       "      <th>Other UL (Bytes)</th>\n",
       "      <th>Total UL (Bytes)</th>\n",
       "      <th>Total DL (Bytes)</th>\n",
       "    </tr>\n",
       "  </thead>\n",
       "  <tbody>\n",
       "    <tr>\n",
       "      <th>0</th>\n",
       "      <td>1.311448e+19</td>\n",
       "      <td>4/4/2019 12:01</td>\n",
       "      <td>770.0</td>\n",
       "      <td>4/25/2019 14:35</td>\n",
       "      <td>662.0</td>\n",
       "      <td>1823652.0</td>\n",
       "      <td>2.082014e+14</td>\n",
       "      <td>3.366496e+10</td>\n",
       "      <td>3.552121e+13</td>\n",
       "      <td>9.16456699548519E+015</td>\n",
       "      <td>...</td>\n",
       "      <td>15854611.0</td>\n",
       "      <td>2501332.0</td>\n",
       "      <td>8198936.0</td>\n",
       "      <td>9656251.0</td>\n",
       "      <td>278082303.0</td>\n",
       "      <td>14344150.0</td>\n",
       "      <td>171744450.0</td>\n",
       "      <td>8814393.0</td>\n",
       "      <td>36749741.0</td>\n",
       "      <td>308879636.0</td>\n",
       "    </tr>\n",
       "    <tr>\n",
       "      <th>1</th>\n",
       "      <td>1.311448e+19</td>\n",
       "      <td>4/9/2019 13:04</td>\n",
       "      <td>235.0</td>\n",
       "      <td>4/25/2019 8:15</td>\n",
       "      <td>606.0</td>\n",
       "      <td>1365104.0</td>\n",
       "      <td>2.082019e+14</td>\n",
       "      <td>3.368185e+10</td>\n",
       "      <td>3.579401e+13</td>\n",
       "      <td>L77566A</td>\n",
       "      <td>...</td>\n",
       "      <td>20247395.0</td>\n",
       "      <td>19111729.0</td>\n",
       "      <td>18338413.0</td>\n",
       "      <td>17227132.0</td>\n",
       "      <td>608750074.0</td>\n",
       "      <td>1170709.0</td>\n",
       "      <td>526904238.0</td>\n",
       "      <td>15055145.0</td>\n",
       "      <td>53800391.0</td>\n",
       "      <td>653384965.0</td>\n",
       "    </tr>\n",
       "  </tbody>\n",
       "</table>\n",
       "<p>2 rows × 55 columns</p>\n",
       "</div>"
      ],
      "text/plain": [
       "      Bearer Id           Start  Start ms              End  End ms  Dur. (ms)  \\\n",
       "0  1.311448e+19  4/4/2019 12:01     770.0  4/25/2019 14:35   662.0  1823652.0   \n",
       "1  1.311448e+19  4/9/2019 13:04     235.0   4/25/2019 8:15   606.0  1365104.0   \n",
       "\n",
       "           IMSI  MSISDN/Number          IMEI     Last Location Name  ...  \\\n",
       "0  2.082014e+14   3.366496e+10  3.552121e+13  9.16456699548519E+015  ...   \n",
       "1  2.082019e+14   3.368185e+10  3.579401e+13                L77566A  ...   \n",
       "\n",
       "   Youtube DL (Bytes)  Youtube UL (Bytes)  Netflix DL (Bytes)  \\\n",
       "0          15854611.0           2501332.0           8198936.0   \n",
       "1          20247395.0          19111729.0          18338413.0   \n",
       "\n",
       "   Netflix UL (Bytes)  Gaming DL (Bytes)  Gaming UL (Bytes)  Other DL (Bytes)  \\\n",
       "0           9656251.0        278082303.0         14344150.0       171744450.0   \n",
       "1          17227132.0        608750074.0          1170709.0       526904238.0   \n",
       "\n",
       "   Other UL (Bytes)  Total UL (Bytes)  Total DL (Bytes)  \n",
       "0         8814393.0        36749741.0       308879636.0  \n",
       "1        15055145.0        53800391.0       653384965.0  \n",
       "\n",
       "[2 rows x 55 columns]"
      ]
     },
     "execution_count": 39,
     "metadata": {},
     "output_type": "execute_result"
    }
   ],
   "source": [
    "data.head(2)"
   ]
  },
  {
   "cell_type": "code",
   "execution_count": 40,
   "metadata": {},
   "outputs": [
    {
     "data": {
      "text/plain": [
       "(150001, 55)"
      ]
     },
     "execution_count": 40,
     "metadata": {},
     "output_type": "execute_result"
    }
   ],
   "source": [
    "data.shape"
   ]
  },
  {
   "cell_type": "code",
   "execution_count": 41,
   "metadata": {},
   "outputs": [
    {
     "name": "stdout",
     "output_type": "stream",
     "text": [
      "Sucessfuly dropped null columns from ['Bearer Id', 'Start', 'End', 'IMSI', 'MSISDN/Number', 'IMEI', 'Last Location Name', 'Handset Manufacturer', 'Handset Type']\n"
     ]
    }
   ],
   "source": [
    "# drop null rows for the follwing columns\n",
    "# Bearer Id, Start, End, IMSI, MSISDN/Number, IMEI,Last Location Name, Handset Manufacturer, Handset Type\n",
    "dropper = DropNullRows(columns_to_check=['Bearer Id', 'Start', 'End', 'IMSI', 'MSISDN/Number', 'IMEI', 'Last Location Name', 'Handset Manufacturer', 'Handset Type'])\n",
    "\n",
    "# Drop rows where the specified column has null values\n",
    "data = dropper.drop_if_null(data)"
   ]
  },
  {
   "cell_type": "code",
   "execution_count": 43,
   "metadata": {},
   "outputs": [
    {
     "data": {
      "text/plain": [
       "(148346, 55)"
      ]
     },
     "execution_count": 43,
     "metadata": {},
     "output_type": "execute_result"
    }
   ],
   "source": [
    "data.shape"
   ]
  },
  {
   "cell_type": "code",
   "execution_count": 65,
   "metadata": {},
   "outputs": [],
   "source": [
    "null_columns = ['Avg RTT DL (ms)', 'Avg RTT UL (ms)', 'TCP DL Retrans. Vol (Bytes)', 'TCP UL Retrans. Vol (Bytes)', \n",
    "           'DL TP < 50 Kbps (%)','50 Kbps < DL TP < 250 Kbps (%)', '250 Kbps < DL TP < 1 Mbps (%)', 'DL TP > 1 Mbps (%)', \n",
    "           'UL TP < 10 Kbps (%)','10 Kbps < UL TP < 50 Kbps (%)', '50 Kbps < UL TP < 300 Kbps (%)', 'UL TP > 300 Kbps (%)',\n",
    "            'HTTP DL (Bytes)', 'HTTP UL (Bytes)', 'Nb of sec with 125000B < Vol DL', 'Nb of sec with 1250B < Vol UL < 6250B',\n",
    "            'Nb of sec with 31250B < Vol DL < 125000B', 'Nb of sec with 37500B < Vol UL', 'Nb of sec with 6250B < Vol DL < 31250B',\n",
    "            'Nb of sec with 6250B < Vol UL < 37500B','Nb of sec with Vol DL < 6250B', 'Nb of sec with Vol UL < 1250B']\n"
   ]
  },
  {
   "cell_type": "markdown",
   "metadata": {},
   "source": [
    "#  Numerical null values are filled based on the outlier and normal distribution"
   ]
  },
  {
   "cell_type": "code",
   "execution_count": 66,
   "metadata": {},
   "outputs": [
    {
     "name": "stdout",
     "output_type": "stream",
     "text": [
      "Column 'Avg RTT DL (ms)': No null values to fill.\n",
      "Column 'Avg RTT UL (ms)': No null values to fill.\n",
      "Column 'TCP DL Retrans. Vol (Bytes)': No null values to fill.\n",
      "Column 'TCP UL Retrans. Vol (Bytes)': No null values to fill.\n",
      "Column 'DL TP < 50 Kbps (%)': No null values to fill.\n",
      "Column '50 Kbps < DL TP < 250 Kbps (%)': No null values to fill.\n",
      "Column '250 Kbps < DL TP < 1 Mbps (%)': No null values to fill.\n",
      "Column 'DL TP > 1 Mbps (%)': No null values to fill.\n",
      "Column 'UL TP < 10 Kbps (%)': No null values to fill.\n",
      "Column '10 Kbps < UL TP < 50 Kbps (%)': No null values to fill.\n",
      "Column '50 Kbps < UL TP < 300 Kbps (%)': No null values to fill.\n",
      "Column 'UL TP > 300 Kbps (%)': No null values to fill.\n",
      "Column 'HTTP DL (Bytes)': No null values to fill.\n",
      "Column 'HTTP UL (Bytes)': No null values to fill.\n",
      "Column 'Nb of sec with 125000B < Vol DL': No null values to fill.\n",
      "Column 'Nb of sec with 1250B < Vol UL < 6250B': No null values to fill.\n",
      "Column 'Nb of sec with 31250B < Vol DL < 125000B': No null values to fill.\n",
      "Column 'Nb of sec with 37500B < Vol UL': No null values to fill.\n",
      "Column 'Nb of sec with 6250B < Vol DL < 31250B': No null values to fill.\n",
      "Column 'Nb of sec with 6250B < Vol UL < 37500B': No null values to fill.\n",
      "Column 'Nb of sec with Vol DL < 6250B': No null values to fill.\n",
      "Column 'Nb of sec with Vol UL < 1250B': Filled null values with median.\n",
      "\n",
      "Updated DataFrame:\n",
      "           Bearer Id            Start  Start ms              End  End ms  \\\n",
      "0       1.311448e+19   4/4/2019 12:01     770.0  4/25/2019 14:35   662.0   \n",
      "1       1.311448e+19   4/9/2019 13:04     235.0   4/25/2019 8:15   606.0   \n",
      "2       1.311448e+19   4/9/2019 17:42       1.0  4/25/2019 11:58   652.0   \n",
      "3       1.311448e+19   4/10/2019 0:31     486.0   4/25/2019 7:36   171.0   \n",
      "4       1.311448e+19  4/12/2019 20:10     565.0  4/25/2019 10:40   954.0   \n",
      "...              ...              ...       ...              ...     ...   \n",
      "149995  1.304243e+19   4/29/2019 7:28     615.0   4/30/2019 0:01   407.0   \n",
      "149996  7.277826e+18   4/29/2019 7:28     451.0   4/30/2019 6:02   214.0   \n",
      "149997  7.349883e+18   4/29/2019 7:28     483.0  4/30/2019 10:41   187.0   \n",
      "149998  1.311448e+19   4/29/2019 7:28     283.0  4/30/2019 10:46   810.0   \n",
      "149999  1.311448e+19   4/29/2019 7:28     696.0  4/30/2019 10:40   327.0   \n",
      "\n",
      "        Dur. (ms)          IMSI  MSISDN/Number          IMEI  \\\n",
      "0       1823652.0  2.082014e+14   3.366496e+10  3.552121e+13   \n",
      "1       1365104.0  2.082019e+14   3.368185e+10  3.579401e+13   \n",
      "2       1361762.0  2.082003e+14   3.376063e+10  3.528151e+13   \n",
      "3       1321509.0  2.082014e+14   3.375034e+10  3.535661e+13   \n",
      "4       1089009.0  2.082014e+14   3.369980e+10  3.540701e+13   \n",
      "...           ...           ...            ...           ...   \n",
      "149995    59587.0  2.082014e+14   3.366865e+10  3.533251e+13   \n",
      "149996    81230.0  2.082022e+14   3.365069e+10  3.548311e+13   \n",
      "149997    97970.0  2.082019e+14   3.366345e+10  3.566051e+13   \n",
      "149998    98249.0  2.082017e+14   3.362189e+10  3.572121e+13   \n",
      "149999    97910.0  2.082021e+14   3.361962e+10  8.618620e+13   \n",
      "\n",
      "           Last Location Name  ...  Youtube DL (Bytes)  Youtube UL (Bytes)  \\\n",
      "0       9.16456699548519E+015  ...          15854611.0           2501332.0   \n",
      "1                     L77566A  ...          20247395.0          19111729.0   \n",
      "2                     D42335A  ...          19725661.0          14699576.0   \n",
      "3                     T21824A  ...          21388122.0          15146643.0   \n",
      "4                     D88865A  ...          15259380.0          18962873.0   \n",
      "...                       ...  ...                 ...                 ...   \n",
      "149995                T85721A  ...           6550499.0          18003146.0   \n",
      "149996                D20434A  ...          16191667.0          11763428.0   \n",
      "149997                D10223C  ...          13877234.0           8288284.0   \n",
      "149998                T51102A  ...          22660510.0           1855903.0   \n",
      "149999                L88342B  ...           8817106.0           8305402.0   \n",
      "\n",
      "        Netflix DL (Bytes)  Netflix UL (Bytes)  Gaming DL (Bytes)  \\\n",
      "0                8198936.0           9656251.0        278082303.0   \n",
      "1               18338413.0          17227132.0        608750074.0   \n",
      "2               17587794.0           6163408.0        229584621.0   \n",
      "3               13994646.0           1097942.0        799538153.0   \n",
      "4               17124581.0            415218.0        527707248.0   \n",
      "...                    ...                 ...                ...   \n",
      "149995          22468983.0           7149728.0        784435351.0   \n",
      "149996          17883703.0          19678161.0        526609673.0   \n",
      "149997          19350146.0          21293148.0        626893062.0   \n",
      "149998           9963942.0           5065760.0        553539484.0   \n",
      "149999           3322253.0          13172589.0        352536971.0   \n",
      "\n",
      "        Gaming UL (Bytes)  Other DL (Bytes)  Other UL (Bytes)  \\\n",
      "0              14344150.0       171744450.0         8814393.0   \n",
      "1               1170709.0       526904238.0        15055145.0   \n",
      "2                395630.0       410692588.0         4215763.0   \n",
      "3              10849722.0       749039933.0        12797283.0   \n",
      "4               3529801.0       550709500.0        13910322.0   \n",
      "...                   ...               ...               ...   \n",
      "149995         12724751.0       321383162.0        14890486.0   \n",
      "149996          9197207.0         3264510.0        13487416.0   \n",
      "149997          4735033.0       712180387.0         2457758.0   \n",
      "149998         13394316.0       121100856.0        11314729.0   \n",
      "149999          2529475.0       814713113.0         1406930.0   \n",
      "\n",
      "        Total UL (Bytes)  Total DL (Bytes)  \n",
      "0             36749741.0       308879636.0  \n",
      "1             53800391.0       653384965.0  \n",
      "2             27883638.0       279807335.0  \n",
      "3             43324218.0       846028530.0  \n",
      "4             38542814.0       569138589.0  \n",
      "...                  ...               ...  \n",
      "149995        53745392.0       819016468.0  \n",
      "149996        57628851.0       574175259.0  \n",
      "149997        39135081.0       666648844.0  \n",
      "149998        34912224.0       592786405.0  \n",
      "149999        29626096.0       371895920.0  \n",
      "\n",
      "[148346 rows x 55 columns]\n"
     ]
    },
    {
     "name": "stderr",
     "output_type": "stream",
     "text": [
      "c:\\Users\\z_user\\anaconda3\\envs\\z_env\\Lib\\site-packages\\scipy\\stats\\_axis_nan_policy.py:573: UserWarning: scipy.stats.shapiro: For N > 5000, computed p-value may not be accurate. Current N is 147580.\n",
      "  res = hypotest_fun_out(*samples, **kwds)\n"
     ]
    }
   ],
   "source": [
    "# Initialize the NullValueFiller class\n",
    "filler = NullValueFiller(data, null_columns)\n",
    "    \n",
    "# Fill null values based on mean/median decision\n",
    "filler.fill_nulls()\n",
    "\n",
    "print(\"\\nUpdated DataFrame:\")\n",
    "print(data)"
   ]
  },
  {
   "cell_type": "code",
   "execution_count": 67,
   "metadata": {},
   "outputs": [
    {
     "name": "stdout",
     "output_type": "stream",
     "text": [
      "Bearer Id                                   0\n",
      "Start                                       0\n",
      "Start ms                                    0\n",
      "End                                         0\n",
      "End ms                                      0\n",
      "Dur. (ms)                                   0\n",
      "IMSI                                        0\n",
      "MSISDN/Number                               0\n",
      "IMEI                                        0\n",
      "Last Location Name                          0\n",
      "Avg RTT DL (ms)                             0\n",
      "Avg RTT UL (ms)                             0\n",
      "Avg Bearer TP DL (kbps)                     0\n",
      "Avg Bearer TP UL (kbps)                     0\n",
      "TCP DL Retrans. Vol (Bytes)                 0\n",
      "TCP UL Retrans. Vol (Bytes)                 0\n",
      "DL TP < 50 Kbps (%)                         0\n",
      "50 Kbps < DL TP < 250 Kbps (%)              0\n",
      "250 Kbps < DL TP < 1 Mbps (%)               0\n",
      "DL TP > 1 Mbps (%)                          0\n",
      "UL TP < 10 Kbps (%)                         0\n",
      "10 Kbps < UL TP < 50 Kbps (%)               0\n",
      "50 Kbps < UL TP < 300 Kbps (%)              0\n",
      "UL TP > 300 Kbps (%)                        0\n",
      "HTTP DL (Bytes)                             0\n",
      "HTTP UL (Bytes)                             0\n",
      "Activity Duration DL (ms)                   0\n",
      "Activity Duration UL (ms)                   0\n",
      "Dur. (ms).1                                 0\n",
      "Handset Manufacturer                        0\n",
      "Handset Type                                0\n",
      "Nb of sec with 125000B < Vol DL             0\n",
      "Nb of sec with 1250B < Vol UL < 6250B       0\n",
      "Nb of sec with 31250B < Vol DL < 125000B    0\n",
      "Nb of sec with 37500B < Vol UL              0\n",
      "Nb of sec with 6250B < Vol DL < 31250B      0\n",
      "Nb of sec with 6250B < Vol UL < 37500B      0\n",
      "Nb of sec with Vol DL < 6250B               0\n",
      "Nb of sec with Vol UL < 1250B               0\n",
      "Social Media DL (Bytes)                     0\n",
      "Social Media UL (Bytes)                     0\n",
      "Google DL (Bytes)                           0\n",
      "Google UL (Bytes)                           0\n",
      "Email DL (Bytes)                            0\n",
      "Email UL (Bytes)                            0\n",
      "Youtube DL (Bytes)                          0\n",
      "Youtube UL (Bytes)                          0\n",
      "Netflix DL (Bytes)                          0\n",
      "Netflix UL (Bytes)                          0\n",
      "Gaming DL (Bytes)                           0\n",
      "Gaming UL (Bytes)                           0\n",
      "Other DL (Bytes)                            0\n",
      "Other UL (Bytes)                            0\n",
      "Total UL (Bytes)                            0\n",
      "Total DL (Bytes)                            0\n",
      "dtype: int64\n"
     ]
    }
   ],
   "source": [
    "null_counts = data.isnull().sum()\n",
    "print(null_counts)"
   ]
  },
  {
   "cell_type": "markdown",
   "metadata": {},
   "source": [
    "## Task 1.1  Aggrigation"
   ]
  },
  {
   "cell_type": "code",
   "execution_count": 85,
   "metadata": {},
   "outputs": [
    {
     "data": {
      "text/html": [
       "<div>\n",
       "<style scoped>\n",
       "    .dataframe tbody tr th:only-of-type {\n",
       "        vertical-align: middle;\n",
       "    }\n",
       "\n",
       "    .dataframe tbody tr th {\n",
       "        vertical-align: top;\n",
       "    }\n",
       "\n",
       "    .dataframe thead th {\n",
       "        text-align: right;\n",
       "    }\n",
       "</style>\n",
       "<table border=\"1\" class=\"dataframe\">\n",
       "  <thead>\n",
       "    <tr style=\"text-align: right;\">\n",
       "      <th></th>\n",
       "      <th>IMSI</th>\n",
       "      <th>xdr_sessions</th>\n",
       "      <th>total_session_duration</th>\n",
       "      <th>total_dl_data</th>\n",
       "      <th>total_ul_data</th>\n",
       "      <th>total_social_media_data</th>\n",
       "      <th>total_google_data</th>\n",
       "      <th>total_email_data</th>\n",
       "      <th>total_youtube_data</th>\n",
       "      <th>total_netflix_data</th>\n",
       "      <th>total_gaming_data</th>\n",
       "      <th>total_other_data</th>\n",
       "      <th>total_application_data_volume</th>\n",
       "    </tr>\n",
       "  </thead>\n",
       "  <tbody>\n",
       "    <tr>\n",
       "      <th>0</th>\n",
       "      <td>2.040471e+14</td>\n",
       "      <td>1</td>\n",
       "      <td>869844.0</td>\n",
       "      <td>78697597.0</td>\n",
       "      <td>60456049.0</td>\n",
       "      <td>1500145.0</td>\n",
       "      <td>5985089.0</td>\n",
       "      <td>2518425.0</td>\n",
       "      <td>18980320.0</td>\n",
       "      <td>21621336.0</td>\n",
       "      <td>28092282.0</td>\n",
       "      <td>389159720.0</td>\n",
       "      <td>467857317.0</td>\n",
       "    </tr>\n",
       "    <tr>\n",
       "      <th>1</th>\n",
       "      <td>2.040808e+14</td>\n",
       "      <td>1</td>\n",
       "      <td>877385.0</td>\n",
       "      <td>194828056.0</td>\n",
       "      <td>37295915.0</td>\n",
       "      <td>668596.0</td>\n",
       "      <td>8572779.0</td>\n",
       "      <td>842279.0</td>\n",
       "      <td>9839889.0</td>\n",
       "      <td>10340908.0</td>\n",
       "      <td>164563605.0</td>\n",
       "      <td>467678100.0</td>\n",
       "      <td>662506156.0</td>\n",
       "    </tr>\n",
       "    <tr>\n",
       "      <th>2</th>\n",
       "      <td>2.082001e+14</td>\n",
       "      <td>1</td>\n",
       "      <td>86019.0</td>\n",
       "      <td>31376981.0</td>\n",
       "      <td>53794658.0</td>\n",
       "      <td>3073697.0</td>\n",
       "      <td>603691.0</td>\n",
       "      <td>3076735.0</td>\n",
       "      <td>5556563.0</td>\n",
       "      <td>15305361.0</td>\n",
       "      <td>3760934.0</td>\n",
       "      <td>500044526.0</td>\n",
       "      <td>531421507.0</td>\n",
       "    </tr>\n",
       "  </tbody>\n",
       "</table>\n",
       "</div>"
      ],
      "text/plain": [
       "           IMSI  xdr_sessions  total_session_duration  total_dl_data  \\\n",
       "0  2.040471e+14             1                869844.0     78697597.0   \n",
       "1  2.040808e+14             1                877385.0    194828056.0   \n",
       "2  2.082001e+14             1                 86019.0     31376981.0   \n",
       "\n",
       "   total_ul_data  total_social_media_data  total_google_data  \\\n",
       "0     60456049.0                1500145.0          5985089.0   \n",
       "1     37295915.0                 668596.0          8572779.0   \n",
       "2     53794658.0                3073697.0           603691.0   \n",
       "\n",
       "   total_email_data  total_youtube_data  total_netflix_data  \\\n",
       "0         2518425.0          18980320.0          21621336.0   \n",
       "1          842279.0           9839889.0          10340908.0   \n",
       "2         3076735.0           5556563.0          15305361.0   \n",
       "\n",
       "   total_gaming_data  total_other_data  total_application_data_volume  \n",
       "0         28092282.0       389159720.0                    467857317.0  \n",
       "1        164563605.0       467678100.0                    662506156.0  \n",
       "2          3760934.0       500044526.0                    531421507.0  "
      ]
     },
     "execution_count": 85,
     "metadata": {},
     "output_type": "execute_result"
    }
   ],
   "source": [
    "# Instantiate the class\n",
    "aggregator = UserSessionAggregator(data)\n",
    "\n",
    "# Perform aggregation by IMSI\n",
    "aggrigated = aggregator.aggregate_per_user(user_column='IMSI')\n",
    "\n",
    "# View results\n",
    "aggrigated.head(3)"
   ]
  },
  {
   "cell_type": "code",
   "execution_count": 86,
   "metadata": {},
   "outputs": [
    {
     "data": {
      "text/plain": [
       "(106351, 13)"
      ]
     },
     "execution_count": 86,
     "metadata": {},
     "output_type": "execute_result"
    }
   ],
   "source": [
    "aggrigated.shape"
   ]
  },
  {
   "cell_type": "markdown",
   "metadata": {},
   "source": [
    "#### variable discription"
   ]
  },
  {
   "cell_type": "code",
   "execution_count": 102,
   "metadata": {},
   "outputs": [
    {
     "name": "stdout",
     "output_type": "stream",
     "text": [
      "                         Variable DataType  \\\n",
      "0                            IMSI  float64   \n",
      "1                    xdr_sessions    int64   \n",
      "2          total_session_duration  float64   \n",
      "3                   total_dl_data  float64   \n",
      "4                   total_ul_data  float64   \n",
      "5         total_social_media_data  float64   \n",
      "6               total_google_data  float64   \n",
      "7                total_email_data  float64   \n",
      "8              total_youtube_data  float64   \n",
      "9              total_netflix_data  float64   \n",
      "10              total_gaming_data  float64   \n",
      "11               total_other_data  float64   \n",
      "12  total_application_data_volume  float64   \n",
      "\n",
      "                                      Description  \n",
      "0            Bearer Id: Unique session identifier  \n",
      "1                       Start: Session start time  \n",
      "2                           End: Session end time  \n",
      "3     Dur. (ms): Session duration in milliseconds  \n",
      "4                           IMSI: User identifier  \n",
      "5         Total DL (Bytes): Total downloaded data  \n",
      "6           Total UL (Bytes): Total uploaded data  \n",
      "7                Description for total_email_data  \n",
      "8              Description for total_youtube_data  \n",
      "9              Description for total_netflix_data  \n",
      "10              Description for total_gaming_data  \n",
      "11               Description for total_other_data  \n",
      "12  Description for total_application_data_volume  \n"
     ]
    }
   ],
   "source": [
    "# Describe variables\n",
    "describer = DataDescriber(aggrigated)\n",
    "variable_description = describer.describe_variables()\n",
    "print(variable_description)"
   ]
  },
  {
   "cell_type": "markdown",
   "metadata": {},
   "source": [
    "#### "
   ]
  },
  {
   "cell_type": "code",
   "execution_count": 101,
   "metadata": {},
   "outputs": [
    {
     "ename": "KeyError",
     "evalue": "'Dur. (ms)'",
     "output_type": "error",
     "traceback": [
      "\u001b[1;31m---------------------------------------------------------------------------\u001b[0m",
      "\u001b[1;31mKeyError\u001b[0m                                  Traceback (most recent call last)",
      "File \u001b[1;32mc:\\Users\\z_user\\anaconda3\\envs\\z_env\\Lib\\site-packages\\pandas\\core\\indexes\\base.py:3805\u001b[0m, in \u001b[0;36mIndex.get_loc\u001b[1;34m(self, key)\u001b[0m\n\u001b[0;32m   3804\u001b[0m \u001b[38;5;28;01mtry\u001b[39;00m:\n\u001b[1;32m-> 3805\u001b[0m     \u001b[38;5;28;01mreturn\u001b[39;00m \u001b[38;5;28mself\u001b[39m\u001b[38;5;241m.\u001b[39m_engine\u001b[38;5;241m.\u001b[39mget_loc(casted_key)\n\u001b[0;32m   3806\u001b[0m \u001b[38;5;28;01mexcept\u001b[39;00m \u001b[38;5;167;01mKeyError\u001b[39;00m \u001b[38;5;28;01mas\u001b[39;00m err:\n",
      "File \u001b[1;32mindex.pyx:167\u001b[0m, in \u001b[0;36mpandas._libs.index.IndexEngine.get_loc\u001b[1;34m()\u001b[0m\n",
      "File \u001b[1;32mindex.pyx:196\u001b[0m, in \u001b[0;36mpandas._libs.index.IndexEngine.get_loc\u001b[1;34m()\u001b[0m\n",
      "File \u001b[1;32mpandas\\\\_libs\\\\hashtable_class_helper.pxi:7081\u001b[0m, in \u001b[0;36mpandas._libs.hashtable.PyObjectHashTable.get_item\u001b[1;34m()\u001b[0m\n",
      "File \u001b[1;32mpandas\\\\_libs\\\\hashtable_class_helper.pxi:7089\u001b[0m, in \u001b[0;36mpandas._libs.hashtable.PyObjectHashTable.get_item\u001b[1;34m()\u001b[0m\n",
      "\u001b[1;31mKeyError\u001b[0m: 'Dur. (ms)'",
      "\nThe above exception was the direct cause of the following exception:\n",
      "\u001b[1;31mKeyError\u001b[0m                                  Traceback (most recent call last)",
      "Cell \u001b[1;32mIn[101], line 3\u001b[0m\n\u001b[0;32m      1\u001b[0m \u001b[38;5;66;03m# Perform user segmentation and compute total data per decile\u001b[39;00m\n\u001b[0;32m      2\u001b[0m transformer \u001b[38;5;241m=\u001b[39m VariableTransformer(aggrigated)\n\u001b[1;32m----> 3\u001b[0m decile_data \u001b[38;5;241m=\u001b[39m transformer\u001b[38;5;241m.\u001b[39msegment_users()\n\u001b[0;32m      4\u001b[0m \u001b[38;5;28mprint\u001b[39m(decile_data)\n",
      "File \u001b[1;32mc:\\ML and DS Files\\Kifiya AI\\Kaim-week-2\\scripts\\analysis_1.py:119\u001b[0m, in \u001b[0;36msegment_users\u001b[1;34m(self)\u001b[0m\n\u001b[0;32m    117\u001b[0m def __init__(self, df):\n\u001b[0;32m    118\u001b[0m     \"\"\"\n\u001b[1;32m--> 119\u001b[0m     Initialize with the aggregated DataFrame.\n\u001b[0;32m    120\u001b[0m     \n\u001b[0;32m    121\u001b[0m     Parameters:\n",
      "File \u001b[1;32mc:\\Users\\z_user\\anaconda3\\envs\\z_env\\Lib\\site-packages\\pandas\\core\\frame.py:4102\u001b[0m, in \u001b[0;36mDataFrame.__getitem__\u001b[1;34m(self, key)\u001b[0m\n\u001b[0;32m   4100\u001b[0m \u001b[38;5;28;01mif\u001b[39;00m \u001b[38;5;28mself\u001b[39m\u001b[38;5;241m.\u001b[39mcolumns\u001b[38;5;241m.\u001b[39mnlevels \u001b[38;5;241m>\u001b[39m \u001b[38;5;241m1\u001b[39m:\n\u001b[0;32m   4101\u001b[0m     \u001b[38;5;28;01mreturn\u001b[39;00m \u001b[38;5;28mself\u001b[39m\u001b[38;5;241m.\u001b[39m_getitem_multilevel(key)\n\u001b[1;32m-> 4102\u001b[0m indexer \u001b[38;5;241m=\u001b[39m \u001b[38;5;28mself\u001b[39m\u001b[38;5;241m.\u001b[39mcolumns\u001b[38;5;241m.\u001b[39mget_loc(key)\n\u001b[0;32m   4103\u001b[0m \u001b[38;5;28;01mif\u001b[39;00m is_integer(indexer):\n\u001b[0;32m   4104\u001b[0m     indexer \u001b[38;5;241m=\u001b[39m [indexer]\n",
      "File \u001b[1;32mc:\\Users\\z_user\\anaconda3\\envs\\z_env\\Lib\\site-packages\\pandas\\core\\indexes\\base.py:3812\u001b[0m, in \u001b[0;36mIndex.get_loc\u001b[1;34m(self, key)\u001b[0m\n\u001b[0;32m   3807\u001b[0m     \u001b[38;5;28;01mif\u001b[39;00m \u001b[38;5;28misinstance\u001b[39m(casted_key, \u001b[38;5;28mslice\u001b[39m) \u001b[38;5;129;01mor\u001b[39;00m (\n\u001b[0;32m   3808\u001b[0m         \u001b[38;5;28misinstance\u001b[39m(casted_key, abc\u001b[38;5;241m.\u001b[39mIterable)\n\u001b[0;32m   3809\u001b[0m         \u001b[38;5;129;01mand\u001b[39;00m \u001b[38;5;28many\u001b[39m(\u001b[38;5;28misinstance\u001b[39m(x, \u001b[38;5;28mslice\u001b[39m) \u001b[38;5;28;01mfor\u001b[39;00m x \u001b[38;5;129;01min\u001b[39;00m casted_key)\n\u001b[0;32m   3810\u001b[0m     ):\n\u001b[0;32m   3811\u001b[0m         \u001b[38;5;28;01mraise\u001b[39;00m InvalidIndexError(key)\n\u001b[1;32m-> 3812\u001b[0m     \u001b[38;5;28;01mraise\u001b[39;00m \u001b[38;5;167;01mKeyError\u001b[39;00m(key) \u001b[38;5;28;01mfrom\u001b[39;00m \u001b[38;5;21;01merr\u001b[39;00m\n\u001b[0;32m   3813\u001b[0m \u001b[38;5;28;01mexcept\u001b[39;00m \u001b[38;5;167;01mTypeError\u001b[39;00m:\n\u001b[0;32m   3814\u001b[0m     \u001b[38;5;66;03m# If we have a listlike key, _check_indexing_error will raise\u001b[39;00m\n\u001b[0;32m   3815\u001b[0m     \u001b[38;5;66;03m#  InvalidIndexError. Otherwise we fall through and re-raise\u001b[39;00m\n\u001b[0;32m   3816\u001b[0m     \u001b[38;5;66;03m#  the TypeError.\u001b[39;00m\n\u001b[0;32m   3817\u001b[0m     \u001b[38;5;28mself\u001b[39m\u001b[38;5;241m.\u001b[39m_check_indexing_error(key)\n",
      "\u001b[1;31mKeyError\u001b[0m: 'Dur. (ms)'"
     ]
    }
   ],
   "source": [
    "# Perform user segmentation and compute total data per decile\n",
    "transformer = VariableTransformer(aggrigated)\n",
    "decile_data = transformer.segment_users()\n",
    "print(decile_data)"
   ]
  },
  {
   "cell_type": "code",
   "execution_count": null,
   "metadata": {},
   "outputs": [],
   "source": []
  }
 ],
 "metadata": {
  "kernelspec": {
   "display_name": "z_env",
   "language": "python",
   "name": "python3"
  },
  "language_info": {
   "codemirror_mode": {
    "name": "ipython",
    "version": 3
   },
   "file_extension": ".py",
   "mimetype": "text/x-python",
   "name": "python",
   "nbconvert_exporter": "python",
   "pygments_lexer": "ipython3",
   "version": "3.12.7"
  }
 },
 "nbformat": 4,
 "nbformat_minor": 2
}
