{
 "cells": [
  {
   "cell_type": "markdown",
   "metadata": {},
   "source": [
    "# Import"
   ]
  },
  {
   "cell_type": "code",
   "execution_count": 1,
   "metadata": {},
   "outputs": [],
   "source": [
    "import os \n",
    "import sys\n",
    "import pandas as pd"
   ]
  },
  {
   "cell_type": "code",
   "execution_count": 2,
   "metadata": {},
   "outputs": [
    {
     "name": "stdout",
     "output_type": "stream",
     "text": [
      "c:\\ML and DS Files\\Kifiya AI\\Kaim-week-2\\notebooks\n",
      "c:\\ML and DS Files\\Kifiya AI\\Kaim-week-2\n"
     ]
    }
   ],
   "source": [
    "current_dir = os.getcwd()\n",
    "print(current_dir)\n",
    "\n",
    "parent_dir = os.path.dirname(current_dir)\n",
    "print(parent_dir)\n",
    "\n",
    "sys.path.insert(0,parent_dir)"
   ]
  },
  {
   "cell_type": "code",
   "execution_count": null,
   "metadata": {},
   "outputs": [
    {
     "data": {
      "text/plain": [
       "<module 'scripts.clean_and_transform' from 'c:\\\\ML and DS Files\\\\Kifiya AI\\\\Kaim-week-2\\\\scripts\\\\clean_and_transform.py'>"
      ]
     },
     "execution_count": 36,
     "metadata": {},
     "output_type": "execute_result"
    }
   ],
   "source": [
    "from importlib import reload\n",
    "import scripts.data_loader\n",
    "import scripts.clean_and_transform\n",
    "reload(scripts.data_loader)\n",
    "reload(scripts.clean_and_transform)"
   ]
  },
  {
   "cell_type": "code",
   "execution_count": 37,
   "metadata": {},
   "outputs": [],
   "source": [
    "from scripts.data_loader import DataLoader\n",
    "from scripts.clean_and_transform import DropNullRows, OutlierDetector"
   ]
  },
  {
   "cell_type": "markdown",
   "metadata": {},
   "source": [
    "# 1. Load Data"
   ]
  },
  {
   "cell_type": "code",
   "execution_count": 38,
   "metadata": {},
   "outputs": [
    {
     "name": "stdout",
     "output_type": "stream",
     "text": [
      "Data successfully loaded from C:\\ML and DS Files\\Kifiya AI\\Kaim-week-2\\Week 2 data\\Data\\Copy of Week2_challenge_data_source(CSV).csv\n"
     ]
    }
   ],
   "source": [
    "file_path = r\"C:\\ML and DS Files\\Kifiya AI\\Kaim-week-2\\Week 2 data\\Data\\Copy of Week2_challenge_data_source(CSV).csv\"\n",
    "loader = DataLoader(file_path)\n",
    "data = loader.load_data()"
   ]
  },
  {
   "cell_type": "code",
   "execution_count": 39,
   "metadata": {},
   "outputs": [
    {
     "data": {
      "text/html": [
       "<div>\n",
       "<style scoped>\n",
       "    .dataframe tbody tr th:only-of-type {\n",
       "        vertical-align: middle;\n",
       "    }\n",
       "\n",
       "    .dataframe tbody tr th {\n",
       "        vertical-align: top;\n",
       "    }\n",
       "\n",
       "    .dataframe thead th {\n",
       "        text-align: right;\n",
       "    }\n",
       "</style>\n",
       "<table border=\"1\" class=\"dataframe\">\n",
       "  <thead>\n",
       "    <tr style=\"text-align: right;\">\n",
       "      <th></th>\n",
       "      <th>Bearer Id</th>\n",
       "      <th>Start</th>\n",
       "      <th>Start ms</th>\n",
       "      <th>End</th>\n",
       "      <th>End ms</th>\n",
       "      <th>Dur. (ms)</th>\n",
       "      <th>IMSI</th>\n",
       "      <th>MSISDN/Number</th>\n",
       "      <th>IMEI</th>\n",
       "      <th>Last Location Name</th>\n",
       "      <th>...</th>\n",
       "      <th>Youtube DL (Bytes)</th>\n",
       "      <th>Youtube UL (Bytes)</th>\n",
       "      <th>Netflix DL (Bytes)</th>\n",
       "      <th>Netflix UL (Bytes)</th>\n",
       "      <th>Gaming DL (Bytes)</th>\n",
       "      <th>Gaming UL (Bytes)</th>\n",
       "      <th>Other DL (Bytes)</th>\n",
       "      <th>Other UL (Bytes)</th>\n",
       "      <th>Total UL (Bytes)</th>\n",
       "      <th>Total DL (Bytes)</th>\n",
       "    </tr>\n",
       "  </thead>\n",
       "  <tbody>\n",
       "    <tr>\n",
       "      <th>0</th>\n",
       "      <td>1.311448e+19</td>\n",
       "      <td>4/4/2019 12:01</td>\n",
       "      <td>770.0</td>\n",
       "      <td>4/25/2019 14:35</td>\n",
       "      <td>662.0</td>\n",
       "      <td>1823652.0</td>\n",
       "      <td>2.082014e+14</td>\n",
       "      <td>3.366496e+10</td>\n",
       "      <td>3.552121e+13</td>\n",
       "      <td>9.16456699548519E+015</td>\n",
       "      <td>...</td>\n",
       "      <td>15854611.0</td>\n",
       "      <td>2501332.0</td>\n",
       "      <td>8198936.0</td>\n",
       "      <td>9656251.0</td>\n",
       "      <td>278082303.0</td>\n",
       "      <td>14344150.0</td>\n",
       "      <td>171744450.0</td>\n",
       "      <td>8814393.0</td>\n",
       "      <td>36749741.0</td>\n",
       "      <td>308879636.0</td>\n",
       "    </tr>\n",
       "    <tr>\n",
       "      <th>1</th>\n",
       "      <td>1.311448e+19</td>\n",
       "      <td>4/9/2019 13:04</td>\n",
       "      <td>235.0</td>\n",
       "      <td>4/25/2019 8:15</td>\n",
       "      <td>606.0</td>\n",
       "      <td>1365104.0</td>\n",
       "      <td>2.082019e+14</td>\n",
       "      <td>3.368185e+10</td>\n",
       "      <td>3.579401e+13</td>\n",
       "      <td>L77566A</td>\n",
       "      <td>...</td>\n",
       "      <td>20247395.0</td>\n",
       "      <td>19111729.0</td>\n",
       "      <td>18338413.0</td>\n",
       "      <td>17227132.0</td>\n",
       "      <td>608750074.0</td>\n",
       "      <td>1170709.0</td>\n",
       "      <td>526904238.0</td>\n",
       "      <td>15055145.0</td>\n",
       "      <td>53800391.0</td>\n",
       "      <td>653384965.0</td>\n",
       "    </tr>\n",
       "  </tbody>\n",
       "</table>\n",
       "<p>2 rows × 55 columns</p>\n",
       "</div>"
      ],
      "text/plain": [
       "      Bearer Id           Start  Start ms              End  End ms  Dur. (ms)  \\\n",
       "0  1.311448e+19  4/4/2019 12:01     770.0  4/25/2019 14:35   662.0  1823652.0   \n",
       "1  1.311448e+19  4/9/2019 13:04     235.0   4/25/2019 8:15   606.0  1365104.0   \n",
       "\n",
       "           IMSI  MSISDN/Number          IMEI     Last Location Name  ...  \\\n",
       "0  2.082014e+14   3.366496e+10  3.552121e+13  9.16456699548519E+015  ...   \n",
       "1  2.082019e+14   3.368185e+10  3.579401e+13                L77566A  ...   \n",
       "\n",
       "   Youtube DL (Bytes)  Youtube UL (Bytes)  Netflix DL (Bytes)  \\\n",
       "0          15854611.0           2501332.0           8198936.0   \n",
       "1          20247395.0          19111729.0          18338413.0   \n",
       "\n",
       "   Netflix UL (Bytes)  Gaming DL (Bytes)  Gaming UL (Bytes)  Other DL (Bytes)  \\\n",
       "0           9656251.0        278082303.0         14344150.0       171744450.0   \n",
       "1          17227132.0        608750074.0          1170709.0       526904238.0   \n",
       "\n",
       "   Other UL (Bytes)  Total UL (Bytes)  Total DL (Bytes)  \n",
       "0         8814393.0        36749741.0       308879636.0  \n",
       "1        15055145.0        53800391.0       653384965.0  \n",
       "\n",
       "[2 rows x 55 columns]"
      ]
     },
     "execution_count": 39,
     "metadata": {},
     "output_type": "execute_result"
    }
   ],
   "source": [
    "data.head(2)"
   ]
  },
  {
   "cell_type": "code",
   "execution_count": 40,
   "metadata": {},
   "outputs": [
    {
     "data": {
      "text/plain": [
       "(150001, 55)"
      ]
     },
     "execution_count": 40,
     "metadata": {},
     "output_type": "execute_result"
    }
   ],
   "source": [
    "data.shape"
   ]
  },
  {
   "cell_type": "code",
   "execution_count": 41,
   "metadata": {},
   "outputs": [
    {
     "name": "stdout",
     "output_type": "stream",
     "text": [
      "Sucessfuly dropped null columns from ['Bearer Id', 'Start', 'End', 'IMSI', 'MSISDN/Number', 'IMEI', 'Last Location Name', 'Handset Manufacturer', 'Handset Type']\n"
     ]
    }
   ],
   "source": [
    "# drop null rows for the follwing columns\n",
    "# Bearer Id, Start, End, IMSI, MSISDN/Number, IMEI,Last Location Name, Handset Manufacturer, Handset Type\n",
    "dropper = DropNullRows(columns_to_check=['Bearer Id', 'Start', 'End', 'IMSI', 'MSISDN/Number', 'IMEI', 'Last Location Name', 'Handset Manufacturer', 'Handset Type'])\n",
    "\n",
    "# Drop rows where the specified column has null values\n",
    "data = dropper.drop_if_null(data)"
   ]
  },
  {
   "cell_type": "code",
   "execution_count": 43,
   "metadata": {},
   "outputs": [
    {
     "data": {
      "text/plain": [
       "(148346, 55)"
      ]
     },
     "execution_count": 43,
     "metadata": {},
     "output_type": "execute_result"
    }
   ],
   "source": [
    "data.shape"
   ]
  },
  {
   "cell_type": "code",
   "execution_count": 17,
   "metadata": {},
   "outputs": [
    {
     "name": "stdout",
     "output_type": "stream",
     "text": [
      "Bearer Id                                      991\n",
      "Start                                            1\n",
      "Start ms                                         1\n",
      "End                                              1\n",
      "End ms                                           1\n",
      "Dur. (ms)                                        1\n",
      "IMSI                                           570\n",
      "MSISDN/Number                                 1066\n",
      "IMEI                                           572\n",
      "Last Location Name                            1153\n",
      "Avg RTT DL (ms)                              27829\n",
      "Avg RTT UL (ms)                              27812\n",
      "Avg Bearer TP DL (kbps)                          1\n",
      "Avg Bearer TP UL (kbps)                          1\n",
      "TCP DL Retrans. Vol (Bytes)                  88146\n",
      "TCP UL Retrans. Vol (Bytes)                  96649\n",
      "DL TP < 50 Kbps (%)                            754\n",
      "50 Kbps < DL TP < 250 Kbps (%)                 754\n",
      "250 Kbps < DL TP < 1 Mbps (%)                  754\n",
      "DL TP > 1 Mbps (%)                             754\n",
      "UL TP < 10 Kbps (%)                            792\n",
      "10 Kbps < UL TP < 50 Kbps (%)                  792\n",
      "50 Kbps < UL TP < 300 Kbps (%)                 792\n",
      "UL TP > 300 Kbps (%)                           792\n",
      "HTTP DL (Bytes)                              81474\n",
      "HTTP UL (Bytes)                              81810\n",
      "Activity Duration DL (ms)                        1\n",
      "Activity Duration UL (ms)                        1\n",
      "Dur. (ms).1                                      1\n",
      "Handset Manufacturer                           572\n",
      "Handset Type                                   572\n",
      "Nb of sec with 125000B < Vol DL              97538\n",
      "Nb of sec with 1250B < Vol UL < 6250B        92894\n",
      "Nb of sec with 31250B < Vol DL < 125000B     93586\n",
      "Nb of sec with 37500B < Vol UL              130254\n",
      "Nb of sec with 6250B < Vol DL < 31250B       88317\n",
      "Nb of sec with 6250B < Vol UL < 37500B      111843\n",
      "Nb of sec with Vol DL < 6250B                  755\n",
      "Nb of sec with Vol UL < 1250B                  793\n",
      "Social Media DL (Bytes)                          0\n",
      "Social Media UL (Bytes)                          0\n",
      "Google DL (Bytes)                                0\n",
      "Google UL (Bytes)                                0\n",
      "Email DL (Bytes)                                 0\n",
      "Email UL (Bytes)                                 0\n",
      "Youtube DL (Bytes)                               0\n",
      "Youtube UL (Bytes)                               0\n",
      "Netflix DL (Bytes)                               0\n",
      "Netflix UL (Bytes)                               0\n",
      "Gaming DL (Bytes)                                0\n",
      "Gaming UL (Bytes)                                0\n",
      "Other DL (Bytes)                                 0\n",
      "Other UL (Bytes)                                 0\n",
      "Total UL (Bytes)                                 1\n",
      "Total DL (Bytes)                                 1\n",
      "dtype: int64\n"
     ]
    }
   ],
   "source": [
    "null_counts = data.isnull().sum()\n",
    "print(null_counts)"
   ]
  },
  {
   "cell_type": "code",
   "execution_count": 19,
   "metadata": {},
   "outputs": [
    {
     "name": "stdout",
     "output_type": "stream",
     "text": [
      "Bearer Id                                    0.660662\n",
      "Start                                        0.000667\n",
      "Start ms                                     0.000667\n",
      "End                                          0.000667\n",
      "End ms                                       0.000667\n",
      "Dur. (ms)                                    0.000667\n",
      "IMSI                                         0.379997\n",
      "MSISDN/Number                                0.710662\n",
      "IMEI                                         0.381331\n",
      "Last Location Name                           0.768662\n",
      "Avg RTT DL (ms)                             18.552543\n",
      "Avg RTT UL (ms)                             18.541210\n",
      "Avg Bearer TP DL (kbps)                      0.000667\n",
      "Avg Bearer TP UL (kbps)                      0.000667\n",
      "TCP DL Retrans. Vol (Bytes)                 58.763608\n",
      "TCP UL Retrans. Vol (Bytes)                 64.432237\n",
      "DL TP < 50 Kbps (%)                          0.502663\n",
      "50 Kbps < DL TP < 250 Kbps (%)               0.502663\n",
      "250 Kbps < DL TP < 1 Mbps (%)                0.502663\n",
      "DL TP > 1 Mbps (%)                           0.502663\n",
      "UL TP < 10 Kbps (%)                          0.527996\n",
      "10 Kbps < UL TP < 50 Kbps (%)                0.527996\n",
      "50 Kbps < UL TP < 300 Kbps (%)               0.527996\n",
      "UL TP > 300 Kbps (%)                         0.527996\n",
      "HTTP DL (Bytes)                             54.315638\n",
      "HTTP UL (Bytes)                             54.539636\n",
      "Activity Duration DL (ms)                    0.000667\n",
      "Activity Duration UL (ms)                    0.000667\n",
      "Dur. (ms).1                                  0.000667\n",
      "Handset Manufacturer                         0.381331\n",
      "Handset Type                                 0.381331\n",
      "Nb of sec with 125000B < Vol DL             65.024900\n",
      "Nb of sec with 1250B < Vol UL < 6250B       61.928920\n",
      "Nb of sec with 31250B < Vol DL < 125000B    62.390251\n",
      "Nb of sec with 37500B < Vol UL              86.835421\n",
      "Nb of sec with 6250B < Vol DL < 31250B      58.877607\n",
      "Nb of sec with 6250B < Vol UL < 37500B      74.561503\n",
      "Nb of sec with Vol DL < 6250B                0.503330\n",
      "Nb of sec with Vol UL < 1250B                0.528663\n",
      "Social Media DL (Bytes)                      0.000000\n",
      "Social Media UL (Bytes)                      0.000000\n",
      "Google DL (Bytes)                            0.000000\n",
      "Google UL (Bytes)                            0.000000\n",
      "Email DL (Bytes)                             0.000000\n",
      "Email UL (Bytes)                             0.000000\n",
      "Youtube DL (Bytes)                           0.000000\n",
      "Youtube UL (Bytes)                           0.000000\n",
      "Netflix DL (Bytes)                           0.000000\n",
      "Netflix UL (Bytes)                           0.000000\n",
      "Gaming DL (Bytes)                            0.000000\n",
      "Gaming UL (Bytes)                            0.000000\n",
      "Other DL (Bytes)                             0.000000\n",
      "Other UL (Bytes)                             0.000000\n",
      "Total UL (Bytes)                             0.000667\n",
      "Total DL (Bytes)                             0.000667\n",
      "dtype: float64\n"
     ]
    }
   ],
   "source": [
    "missing_percentage = (data.isnull().sum() / len(data)) * 100\n",
    "\n",
    "print(missing_percentage)"
   ]
  },
  {
   "cell_type": "code",
   "execution_count": null,
   "metadata": {},
   "outputs": [],
   "source": []
  }
 ],
 "metadata": {
  "kernelspec": {
   "display_name": "z_env",
   "language": "python",
   "name": "python3"
  },
  "language_info": {
   "codemirror_mode": {
    "name": "ipython",
    "version": 3
   },
   "file_extension": ".py",
   "mimetype": "text/x-python",
   "name": "python",
   "nbconvert_exporter": "python",
   "pygments_lexer": "ipython3",
   "version": "3.12.7"
  }
 },
 "nbformat": 4,
 "nbformat_minor": 2
}
