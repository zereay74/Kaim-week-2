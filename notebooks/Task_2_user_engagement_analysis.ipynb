{
 "cells": [
  {
   "cell_type": "markdown",
   "metadata": {},
   "source": [
    "# Imports"
   ]
  },
  {
   "cell_type": "code",
   "execution_count": 1,
   "metadata": {},
   "outputs": [],
   "source": [
    "import os \n",
    "import sys\n",
    "import pandas as pd\n",
    "import psycopg2 \n",
    "from dotenv import load_dotenv\n",
    "from sqlalchemy import create_engine"
   ]
  },
  {
   "cell_type": "code",
   "execution_count": 2,
   "metadata": {},
   "outputs": [
    {
     "name": "stdout",
     "output_type": "stream",
     "text": [
      "c:\\ML and DS Files\\Kifiya AI\\Kaim-week-2\\notebooks\n",
      "c:\\ML and DS Files\\Kifiya AI\\Kaim-week-2\n"
     ]
    }
   ],
   "source": [
    "current_dir = os.getcwd()\n",
    "print(current_dir)\n",
    "\n",
    "parent_dir = os.path.dirname(current_dir)\n",
    "print(parent_dir)\n",
    "\n",
    "sys.path.insert(0,parent_dir)"
   ]
  },
  {
   "cell_type": "code",
   "execution_count": 3,
   "metadata": {},
   "outputs": [
    {
     "data": {
      "text/plain": [
       "<module 'scripts.visualization' from 'c:\\\\ML and DS Files\\\\Kifiya AI\\\\Kaim-week-2\\\\scripts\\\\visualization.py'>"
      ]
     },
     "execution_count": 3,
     "metadata": {},
     "output_type": "execute_result"
    }
   ],
   "source": [
    "from importlib import reload\n",
    "import scripts.data_loader, scripts.clean_and_transform, scripts.analysis_1, scripts.visualization, scripts.analysis_2\n",
    "reload(scripts.data_loader)\n",
    "reload(scripts.clean_and_transform)\n",
    "reload(scripts.analysis_1)\n",
    "reload(scripts.analysis_2)\n",
    "reload(scripts.visualization)"
   ]
  },
  {
   "cell_type": "code",
   "execution_count": 4,
   "metadata": {},
   "outputs": [],
   "source": [
    "from scripts.data_loader import DataLoader, LoadSqlData\n",
    "from scripts.clean_and_transform import DropNullRows, NullValueFiller, DropUndefined\n",
    "from scripts.analysis_1 import UserSessionAggregator, DataDescriber, VariableTransformer, MetricsAnalyzer, DispersionAnalyzer, PCAAnalyzer, HandsetAnalysis\n",
    "from scripts.analysis_2 import TelecomEngagementAnalysis\n",
    "from scripts.visualization import UnivariateAnalyzer, BivariateAnalyzer, CorrelationAnalyzer"
   ]
  },
  {
   "cell_type": "markdown",
   "metadata": {},
   "source": [
    "# Load data from postgreSQL"
   ]
  },
  {
   "cell_type": "code",
   "execution_count": 5,
   "metadata": {},
   "outputs": [
    {
     "name": "stderr",
     "output_type": "stream",
     "text": [
      "c:\\ML and DS Files\\Kifiya AI\\Kaim-week-2\\scripts\\data_loader.py:82: UserWarning: pandas only supports SQLAlchemy connectable (engine/connection) or database string URI or sqlite3 DBAPI2 connection. Other DBAPI2 objects are not tested. Please consider using SQLAlchemy.\n",
      "  df = pd.read_sql_query(self.query, connection)\n"
     ]
    },
    {
     "name": "stdout",
     "output_type": "stream",
     "text": [
      "Sucessfully Loaded\n"
     ]
    },
    {
     "data": {
      "text/html": [
       "<div>\n",
       "<style scoped>\n",
       "    .dataframe tbody tr th:only-of-type {\n",
       "        vertical-align: middle;\n",
       "    }\n",
       "\n",
       "    .dataframe tbody tr th {\n",
       "        vertical-align: top;\n",
       "    }\n",
       "\n",
       "    .dataframe thead th {\n",
       "        text-align: right;\n",
       "    }\n",
       "</style>\n",
       "<table border=\"1\" class=\"dataframe\">\n",
       "  <thead>\n",
       "    <tr style=\"text-align: right;\">\n",
       "      <th></th>\n",
       "      <th>Bearer Id</th>\n",
       "      <th>Start</th>\n",
       "      <th>Start ms</th>\n",
       "      <th>End</th>\n",
       "      <th>End ms</th>\n",
       "      <th>Dur. (ms)</th>\n",
       "      <th>IMSI</th>\n",
       "      <th>MSISDN/Number</th>\n",
       "      <th>IMEI</th>\n",
       "      <th>Last Location Name</th>\n",
       "      <th>...</th>\n",
       "      <th>Youtube DL (Bytes)</th>\n",
       "      <th>Youtube UL (Bytes)</th>\n",
       "      <th>Netflix DL (Bytes)</th>\n",
       "      <th>Netflix UL (Bytes)</th>\n",
       "      <th>Gaming DL (Bytes)</th>\n",
       "      <th>Gaming UL (Bytes)</th>\n",
       "      <th>Other DL (Bytes)</th>\n",
       "      <th>Other UL (Bytes)</th>\n",
       "      <th>Total UL (Bytes)</th>\n",
       "      <th>Total DL (Bytes)</th>\n",
       "    </tr>\n",
       "  </thead>\n",
       "  <tbody>\n",
       "    <tr>\n",
       "      <th>0</th>\n",
       "      <td>1.311448e+19</td>\n",
       "      <td>4/4/2019 12:01</td>\n",
       "      <td>770.0</td>\n",
       "      <td>4/25/2019 14:35</td>\n",
       "      <td>662.0</td>\n",
       "      <td>1823652.0</td>\n",
       "      <td>2.082014e+14</td>\n",
       "      <td>3.366496e+10</td>\n",
       "      <td>3.552121e+13</td>\n",
       "      <td>9.16456699548519E+015</td>\n",
       "      <td>...</td>\n",
       "      <td>15854611.0</td>\n",
       "      <td>2501332.0</td>\n",
       "      <td>8198936.0</td>\n",
       "      <td>9656251.0</td>\n",
       "      <td>278082303.0</td>\n",
       "      <td>14344150.0</td>\n",
       "      <td>171744450.0</td>\n",
       "      <td>8814393.0</td>\n",
       "      <td>36749741.0</td>\n",
       "      <td>308879636.0</td>\n",
       "    </tr>\n",
       "    <tr>\n",
       "      <th>1</th>\n",
       "      <td>1.311448e+19</td>\n",
       "      <td>4/9/2019 13:04</td>\n",
       "      <td>235.0</td>\n",
       "      <td>4/25/2019 8:15</td>\n",
       "      <td>606.0</td>\n",
       "      <td>1365104.0</td>\n",
       "      <td>2.082019e+14</td>\n",
       "      <td>3.368185e+10</td>\n",
       "      <td>3.579401e+13</td>\n",
       "      <td>L77566A</td>\n",
       "      <td>...</td>\n",
       "      <td>20247395.0</td>\n",
       "      <td>19111729.0</td>\n",
       "      <td>18338413.0</td>\n",
       "      <td>17227132.0</td>\n",
       "      <td>608750074.0</td>\n",
       "      <td>1170709.0</td>\n",
       "      <td>526904238.0</td>\n",
       "      <td>15055145.0</td>\n",
       "      <td>53800391.0</td>\n",
       "      <td>653384965.0</td>\n",
       "    </tr>\n",
       "    <tr>\n",
       "      <th>2</th>\n",
       "      <td>1.311448e+19</td>\n",
       "      <td>4/9/2019 17:42</td>\n",
       "      <td>1.0</td>\n",
       "      <td>4/25/2019 11:58</td>\n",
       "      <td>652.0</td>\n",
       "      <td>1361762.0</td>\n",
       "      <td>2.082003e+14</td>\n",
       "      <td>3.376063e+10</td>\n",
       "      <td>3.528151e+13</td>\n",
       "      <td>D42335A</td>\n",
       "      <td>...</td>\n",
       "      <td>19725661.0</td>\n",
       "      <td>14699576.0</td>\n",
       "      <td>17587794.0</td>\n",
       "      <td>6163408.0</td>\n",
       "      <td>229584621.0</td>\n",
       "      <td>395630.0</td>\n",
       "      <td>410692588.0</td>\n",
       "      <td>4215763.0</td>\n",
       "      <td>27883638.0</td>\n",
       "      <td>279807335.0</td>\n",
       "    </tr>\n",
       "    <tr>\n",
       "      <th>3</th>\n",
       "      <td>1.311448e+19</td>\n",
       "      <td>4/10/2019 0:31</td>\n",
       "      <td>486.0</td>\n",
       "      <td>4/25/2019 7:36</td>\n",
       "      <td>171.0</td>\n",
       "      <td>1321509.0</td>\n",
       "      <td>2.082014e+14</td>\n",
       "      <td>3.375034e+10</td>\n",
       "      <td>3.535661e+13</td>\n",
       "      <td>T21824A</td>\n",
       "      <td>...</td>\n",
       "      <td>21388122.0</td>\n",
       "      <td>15146643.0</td>\n",
       "      <td>13994646.0</td>\n",
       "      <td>1097942.0</td>\n",
       "      <td>799538153.0</td>\n",
       "      <td>10849722.0</td>\n",
       "      <td>749039933.0</td>\n",
       "      <td>12797283.0</td>\n",
       "      <td>43324218.0</td>\n",
       "      <td>846028530.0</td>\n",
       "    </tr>\n",
       "    <tr>\n",
       "      <th>4</th>\n",
       "      <td>1.311448e+19</td>\n",
       "      <td>4/12/2019 20:10</td>\n",
       "      <td>565.0</td>\n",
       "      <td>4/25/2019 10:40</td>\n",
       "      <td>954.0</td>\n",
       "      <td>1089009.0</td>\n",
       "      <td>2.082014e+14</td>\n",
       "      <td>3.369980e+10</td>\n",
       "      <td>3.540701e+13</td>\n",
       "      <td>D88865A</td>\n",
       "      <td>...</td>\n",
       "      <td>15259380.0</td>\n",
       "      <td>18962873.0</td>\n",
       "      <td>17124581.0</td>\n",
       "      <td>415218.0</td>\n",
       "      <td>527707248.0</td>\n",
       "      <td>3529801.0</td>\n",
       "      <td>550709500.0</td>\n",
       "      <td>13910322.0</td>\n",
       "      <td>38542814.0</td>\n",
       "      <td>569138589.0</td>\n",
       "    </tr>\n",
       "  </tbody>\n",
       "</table>\n",
       "<p>5 rows × 55 columns</p>\n",
       "</div>"
      ],
      "text/plain": [
       "      Bearer Id            Start  Start ms              End  End ms  \\\n",
       "0  1.311448e+19   4/4/2019 12:01     770.0  4/25/2019 14:35   662.0   \n",
       "1  1.311448e+19   4/9/2019 13:04     235.0   4/25/2019 8:15   606.0   \n",
       "2  1.311448e+19   4/9/2019 17:42       1.0  4/25/2019 11:58   652.0   \n",
       "3  1.311448e+19   4/10/2019 0:31     486.0   4/25/2019 7:36   171.0   \n",
       "4  1.311448e+19  4/12/2019 20:10     565.0  4/25/2019 10:40   954.0   \n",
       "\n",
       "   Dur. (ms)          IMSI  MSISDN/Number          IMEI  \\\n",
       "0  1823652.0  2.082014e+14   3.366496e+10  3.552121e+13   \n",
       "1  1365104.0  2.082019e+14   3.368185e+10  3.579401e+13   \n",
       "2  1361762.0  2.082003e+14   3.376063e+10  3.528151e+13   \n",
       "3  1321509.0  2.082014e+14   3.375034e+10  3.535661e+13   \n",
       "4  1089009.0  2.082014e+14   3.369980e+10  3.540701e+13   \n",
       "\n",
       "      Last Location Name  ...  Youtube DL (Bytes)  Youtube UL (Bytes)  \\\n",
       "0  9.16456699548519E+015  ...          15854611.0           2501332.0   \n",
       "1                L77566A  ...          20247395.0          19111729.0   \n",
       "2                D42335A  ...          19725661.0          14699576.0   \n",
       "3                T21824A  ...          21388122.0          15146643.0   \n",
       "4                D88865A  ...          15259380.0          18962873.0   \n",
       "\n",
       "   Netflix DL (Bytes)  Netflix UL (Bytes)  Gaming DL (Bytes)  \\\n",
       "0           8198936.0           9656251.0        278082303.0   \n",
       "1          18338413.0          17227132.0        608750074.0   \n",
       "2          17587794.0           6163408.0        229584621.0   \n",
       "3          13994646.0           1097942.0        799538153.0   \n",
       "4          17124581.0            415218.0        527707248.0   \n",
       "\n",
       "   Gaming UL (Bytes)  Other DL (Bytes)  Other UL (Bytes)  Total UL (Bytes)  \\\n",
       "0         14344150.0       171744450.0         8814393.0        36749741.0   \n",
       "1          1170709.0       526904238.0        15055145.0        53800391.0   \n",
       "2           395630.0       410692588.0         4215763.0        27883638.0   \n",
       "3         10849722.0       749039933.0        12797283.0        43324218.0   \n",
       "4          3529801.0       550709500.0        13910322.0        38542814.0   \n",
       "\n",
       "   Total DL (Bytes)  \n",
       "0       308879636.0  \n",
       "1       653384965.0  \n",
       "2       279807335.0  \n",
       "3       846028530.0  \n",
       "4       569138589.0  \n",
       "\n",
       "[5 rows x 55 columns]"
      ]
     },
     "execution_count": 5,
     "metadata": {},
     "output_type": "execute_result"
    }
   ],
   "source": [
    "# Define your SQL query\n",
    "query = \"SELECT * FROM xdr_data\"\n",
    "\n",
    "# Create an instance of the LoadSqlData class\n",
    "data_loader = LoadSqlData(query)\n",
    "# Load data using psycopg2\n",
    "data = data_loader.load_data_from_postgres()\n",
    "data.head()"
   ]
  },
  {
   "cell_type": "code",
   "execution_count": 6,
   "metadata": {},
   "outputs": [
    {
     "name": "stdout",
     "output_type": "stream",
     "text": [
      "Sucessfully Loaded\n"
     ]
    },
    {
     "data": {
      "text/html": [
       "<div>\n",
       "<style scoped>\n",
       "    .dataframe tbody tr th:only-of-type {\n",
       "        vertical-align: middle;\n",
       "    }\n",
       "\n",
       "    .dataframe tbody tr th {\n",
       "        vertical-align: top;\n",
       "    }\n",
       "\n",
       "    .dataframe thead th {\n",
       "        text-align: right;\n",
       "    }\n",
       "</style>\n",
       "<table border=\"1\" class=\"dataframe\">\n",
       "  <thead>\n",
       "    <tr style=\"text-align: right;\">\n",
       "      <th></th>\n",
       "      <th>Bearer Id</th>\n",
       "      <th>Start</th>\n",
       "      <th>Start ms</th>\n",
       "      <th>End</th>\n",
       "      <th>End ms</th>\n",
       "      <th>Dur. (ms)</th>\n",
       "      <th>IMSI</th>\n",
       "      <th>MSISDN/Number</th>\n",
       "      <th>IMEI</th>\n",
       "      <th>Last Location Name</th>\n",
       "      <th>...</th>\n",
       "      <th>Youtube DL (Bytes)</th>\n",
       "      <th>Youtube UL (Bytes)</th>\n",
       "      <th>Netflix DL (Bytes)</th>\n",
       "      <th>Netflix UL (Bytes)</th>\n",
       "      <th>Gaming DL (Bytes)</th>\n",
       "      <th>Gaming UL (Bytes)</th>\n",
       "      <th>Other DL (Bytes)</th>\n",
       "      <th>Other UL (Bytes)</th>\n",
       "      <th>Total UL (Bytes)</th>\n",
       "      <th>Total DL (Bytes)</th>\n",
       "    </tr>\n",
       "  </thead>\n",
       "  <tbody>\n",
       "    <tr>\n",
       "      <th>0</th>\n",
       "      <td>1.311448e+19</td>\n",
       "      <td>4/4/2019 12:01</td>\n",
       "      <td>770.0</td>\n",
       "      <td>4/25/2019 14:35</td>\n",
       "      <td>662.0</td>\n",
       "      <td>1823652.0</td>\n",
       "      <td>2.082014e+14</td>\n",
       "      <td>3.366496e+10</td>\n",
       "      <td>3.552121e+13</td>\n",
       "      <td>9.16456699548519E+015</td>\n",
       "      <td>...</td>\n",
       "      <td>15854611.0</td>\n",
       "      <td>2501332.0</td>\n",
       "      <td>8198936.0</td>\n",
       "      <td>9656251.0</td>\n",
       "      <td>278082303.0</td>\n",
       "      <td>14344150.0</td>\n",
       "      <td>171744450.0</td>\n",
       "      <td>8814393.0</td>\n",
       "      <td>36749741.0</td>\n",
       "      <td>308879636.0</td>\n",
       "    </tr>\n",
       "    <tr>\n",
       "      <th>1</th>\n",
       "      <td>1.311448e+19</td>\n",
       "      <td>4/9/2019 13:04</td>\n",
       "      <td>235.0</td>\n",
       "      <td>4/25/2019 8:15</td>\n",
       "      <td>606.0</td>\n",
       "      <td>1365104.0</td>\n",
       "      <td>2.082019e+14</td>\n",
       "      <td>3.368185e+10</td>\n",
       "      <td>3.579401e+13</td>\n",
       "      <td>L77566A</td>\n",
       "      <td>...</td>\n",
       "      <td>20247395.0</td>\n",
       "      <td>19111729.0</td>\n",
       "      <td>18338413.0</td>\n",
       "      <td>17227132.0</td>\n",
       "      <td>608750074.0</td>\n",
       "      <td>1170709.0</td>\n",
       "      <td>526904238.0</td>\n",
       "      <td>15055145.0</td>\n",
       "      <td>53800391.0</td>\n",
       "      <td>653384965.0</td>\n",
       "    </tr>\n",
       "    <tr>\n",
       "      <th>2</th>\n",
       "      <td>1.311448e+19</td>\n",
       "      <td>4/9/2019 17:42</td>\n",
       "      <td>1.0</td>\n",
       "      <td>4/25/2019 11:58</td>\n",
       "      <td>652.0</td>\n",
       "      <td>1361762.0</td>\n",
       "      <td>2.082003e+14</td>\n",
       "      <td>3.376063e+10</td>\n",
       "      <td>3.528151e+13</td>\n",
       "      <td>D42335A</td>\n",
       "      <td>...</td>\n",
       "      <td>19725661.0</td>\n",
       "      <td>14699576.0</td>\n",
       "      <td>17587794.0</td>\n",
       "      <td>6163408.0</td>\n",
       "      <td>229584621.0</td>\n",
       "      <td>395630.0</td>\n",
       "      <td>410692588.0</td>\n",
       "      <td>4215763.0</td>\n",
       "      <td>27883638.0</td>\n",
       "      <td>279807335.0</td>\n",
       "    </tr>\n",
       "    <tr>\n",
       "      <th>3</th>\n",
       "      <td>1.311448e+19</td>\n",
       "      <td>4/10/2019 0:31</td>\n",
       "      <td>486.0</td>\n",
       "      <td>4/25/2019 7:36</td>\n",
       "      <td>171.0</td>\n",
       "      <td>1321509.0</td>\n",
       "      <td>2.082014e+14</td>\n",
       "      <td>3.375034e+10</td>\n",
       "      <td>3.535661e+13</td>\n",
       "      <td>T21824A</td>\n",
       "      <td>...</td>\n",
       "      <td>21388122.0</td>\n",
       "      <td>15146643.0</td>\n",
       "      <td>13994646.0</td>\n",
       "      <td>1097942.0</td>\n",
       "      <td>799538153.0</td>\n",
       "      <td>10849722.0</td>\n",
       "      <td>749039933.0</td>\n",
       "      <td>12797283.0</td>\n",
       "      <td>43324218.0</td>\n",
       "      <td>846028530.0</td>\n",
       "    </tr>\n",
       "    <tr>\n",
       "      <th>4</th>\n",
       "      <td>1.311448e+19</td>\n",
       "      <td>4/12/2019 20:10</td>\n",
       "      <td>565.0</td>\n",
       "      <td>4/25/2019 10:40</td>\n",
       "      <td>954.0</td>\n",
       "      <td>1089009.0</td>\n",
       "      <td>2.082014e+14</td>\n",
       "      <td>3.369980e+10</td>\n",
       "      <td>3.540701e+13</td>\n",
       "      <td>D88865A</td>\n",
       "      <td>...</td>\n",
       "      <td>15259380.0</td>\n",
       "      <td>18962873.0</td>\n",
       "      <td>17124581.0</td>\n",
       "      <td>415218.0</td>\n",
       "      <td>527707248.0</td>\n",
       "      <td>3529801.0</td>\n",
       "      <td>550709500.0</td>\n",
       "      <td>13910322.0</td>\n",
       "      <td>38542814.0</td>\n",
       "      <td>569138589.0</td>\n",
       "    </tr>\n",
       "  </tbody>\n",
       "</table>\n",
       "<p>5 rows × 55 columns</p>\n",
       "</div>"
      ],
      "text/plain": [
       "      Bearer Id            Start  Start ms              End  End ms  \\\n",
       "0  1.311448e+19   4/4/2019 12:01     770.0  4/25/2019 14:35   662.0   \n",
       "1  1.311448e+19   4/9/2019 13:04     235.0   4/25/2019 8:15   606.0   \n",
       "2  1.311448e+19   4/9/2019 17:42       1.0  4/25/2019 11:58   652.0   \n",
       "3  1.311448e+19   4/10/2019 0:31     486.0   4/25/2019 7:36   171.0   \n",
       "4  1.311448e+19  4/12/2019 20:10     565.0  4/25/2019 10:40   954.0   \n",
       "\n",
       "   Dur. (ms)          IMSI  MSISDN/Number          IMEI  \\\n",
       "0  1823652.0  2.082014e+14   3.366496e+10  3.552121e+13   \n",
       "1  1365104.0  2.082019e+14   3.368185e+10  3.579401e+13   \n",
       "2  1361762.0  2.082003e+14   3.376063e+10  3.528151e+13   \n",
       "3  1321509.0  2.082014e+14   3.375034e+10  3.535661e+13   \n",
       "4  1089009.0  2.082014e+14   3.369980e+10  3.540701e+13   \n",
       "\n",
       "      Last Location Name  ...  Youtube DL (Bytes)  Youtube UL (Bytes)  \\\n",
       "0  9.16456699548519E+015  ...          15854611.0           2501332.0   \n",
       "1                L77566A  ...          20247395.0          19111729.0   \n",
       "2                D42335A  ...          19725661.0          14699576.0   \n",
       "3                T21824A  ...          21388122.0          15146643.0   \n",
       "4                D88865A  ...          15259380.0          18962873.0   \n",
       "\n",
       "   Netflix DL (Bytes)  Netflix UL (Bytes)  Gaming DL (Bytes)  \\\n",
       "0           8198936.0           9656251.0        278082303.0   \n",
       "1          18338413.0          17227132.0        608750074.0   \n",
       "2          17587794.0           6163408.0        229584621.0   \n",
       "3          13994646.0           1097942.0        799538153.0   \n",
       "4          17124581.0            415218.0        527707248.0   \n",
       "\n",
       "   Gaming UL (Bytes)  Other DL (Bytes)  Other UL (Bytes)  Total UL (Bytes)  \\\n",
       "0         14344150.0       171744450.0         8814393.0        36749741.0   \n",
       "1          1170709.0       526904238.0        15055145.0        53800391.0   \n",
       "2           395630.0       410692588.0         4215763.0        27883638.0   \n",
       "3         10849722.0       749039933.0        12797283.0        43324218.0   \n",
       "4          3529801.0       550709500.0        13910322.0        38542814.0   \n",
       "\n",
       "   Total DL (Bytes)  \n",
       "0       308879636.0  \n",
       "1       653384965.0  \n",
       "2       279807335.0  \n",
       "3       846028530.0  \n",
       "4       569138589.0  \n",
       "\n",
       "[5 rows x 55 columns]"
      ]
     },
     "execution_count": 6,
     "metadata": {},
     "output_type": "execute_result"
    }
   ],
   "source": [
    "# Load data using SQLAlchemy\n",
    "df_sqlalchemy = data_loader.load_data_using_sqlalchemy()\n",
    "df_sqlalchemy.head()"
   ]
  },
  {
   "cell_type": "code",
   "execution_count": 7,
   "metadata": {},
   "outputs": [
    {
     "data": {
      "text/plain": [
       "(150001, 55)"
      ]
     },
     "execution_count": 7,
     "metadata": {},
     "output_type": "execute_result"
    }
   ],
   "source": [
    "data.shape"
   ]
  },
  {
   "cell_type": "markdown",
   "metadata": {},
   "source": [
    "# Clean the data"
   ]
  },
  {
   "cell_type": "code",
   "execution_count": 8,
   "metadata": {},
   "outputs": [
    {
     "name": "stdout",
     "output_type": "stream",
     "text": [
      "Sucessfully droped undefined columns\n"
     ]
    }
   ],
   "source": [
    "# Drop  undefined values from Handset Type\n",
    "drop_undefined = DropUndefined(data)\n",
    "data = drop_undefined.DeleteUndefined(column='Handset Type', value='undefined')"
   ]
  },
  {
   "cell_type": "code",
   "execution_count": 9,
   "metadata": {},
   "outputs": [
    {
     "name": "stdout",
     "output_type": "stream",
     "text": [
      "Sucessfuly dropped null rows from ['Bearer Id', 'Start', 'End', 'IMSI', 'MSISDN/Number', 'IMEI', 'Last Location Name', 'Handset Manufacturer', 'Handset Type']\n"
     ]
    }
   ],
   "source": [
    "# drop null rows for the follwing columns\n",
    "# Bearer Id, Start, End, IMSI, MSISDN/Number, IMEI,Last Location Name, Handset Manufacturer, Handset Type\n",
    "col_1 = ['Bearer Id', 'Start', 'End', 'IMSI', 'MSISDN/Number', 'IMEI', 'Last Location Name', 'Handset Manufacturer', 'Handset Type']\n",
    "dropper = DropNullRows(columns_to_check=col_1)\n",
    "\n",
    "# Drop rows where the specified column has null values\n",
    "data = dropper.drop_if_null(data)"
   ]
  },
  {
   "cell_type": "code",
   "execution_count": 10,
   "metadata": {},
   "outputs": [
    {
     "data": {
      "text/plain": [
       "(139454, 55)"
      ]
     },
     "execution_count": 10,
     "metadata": {},
     "output_type": "execute_result"
    }
   ],
   "source": [
    "data.shape"
   ]
  },
  {
   "cell_type": "code",
   "execution_count": 11,
   "metadata": {},
   "outputs": [],
   "source": [
    "null_columns = ['Avg RTT DL (ms)', 'Avg RTT UL (ms)', 'TCP DL Retrans. Vol (Bytes)', 'TCP UL Retrans. Vol (Bytes)', \n",
    "           'DL TP < 50 Kbps (%)','50 Kbps < DL TP < 250 Kbps (%)', '250 Kbps < DL TP < 1 Mbps (%)', 'DL TP > 1 Mbps (%)', \n",
    "           'UL TP < 10 Kbps (%)','10 Kbps < UL TP < 50 Kbps (%)', '50 Kbps < UL TP < 300 Kbps (%)', 'UL TP > 300 Kbps (%)',\n",
    "            'HTTP DL (Bytes)', 'HTTP UL (Bytes)', 'Nb of sec with 125000B < Vol DL', 'Nb of sec with 1250B < Vol UL < 6250B',\n",
    "            'Nb of sec with 31250B < Vol DL < 125000B', 'Nb of sec with 37500B < Vol UL', 'Nb of sec with 6250B < Vol DL < 31250B',\n",
    "            'Nb of sec with 6250B < Vol UL < 37500B','Nb of sec with Vol DL < 6250B', 'Nb of sec with Vol UL < 1250B']\n"
   ]
  },
  {
   "cell_type": "code",
   "execution_count": 12,
   "metadata": {},
   "outputs": [
    {
     "name": "stderr",
     "output_type": "stream",
     "text": [
      "c:\\Users\\z_user\\anaconda3\\envs\\z_env\\Lib\\site-packages\\scipy\\stats\\_axis_nan_policy.py:573: UserWarning: scipy.stats.shapiro: For N > 5000, computed p-value may not be accurate. Current N is 115930.\n",
      "  res = hypotest_fun_out(*samples, **kwds)\n",
      "c:\\ML and DS Files\\Kifiya AI\\Kaim-week-2\\scripts\\clean_and_transform.py:87: FutureWarning: A value is trying to be set on a copy of a DataFrame or Series through chained assignment using an inplace method.\n",
      "The behavior will change in pandas 3.0. This inplace method will never work because the intermediate object on which we are setting values always behaves as a copy.\n",
      "\n",
      "For example, when doing 'df[col].method(value, inplace=True)', try using 'df.method({col: value}, inplace=True)' or df[col] = df[col].method(value) instead, to perform the operation inplace on the original object.\n",
      "\n",
      "\n",
      "  self.df[column].fillna(fill_value, inplace=True)\n",
      "c:\\ML and DS Files\\Kifiya AI\\Kaim-week-2\\scripts\\clean_and_transform.py:87: SettingWithCopyWarning: \n",
      "A value is trying to be set on a copy of a slice from a DataFrame\n",
      "\n",
      "See the caveats in the documentation: https://pandas.pydata.org/pandas-docs/stable/user_guide/indexing.html#returning-a-view-versus-a-copy\n",
      "  self.df[column].fillna(fill_value, inplace=True)\n",
      "c:\\Users\\z_user\\anaconda3\\envs\\z_env\\Lib\\site-packages\\scipy\\stats\\_axis_nan_policy.py:573: UserWarning: scipy.stats.shapiro: For N > 5000, computed p-value may not be accurate. Current N is 115948.\n",
      "  res = hypotest_fun_out(*samples, **kwds)\n",
      "c:\\Users\\z_user\\anaconda3\\envs\\z_env\\Lib\\site-packages\\scipy\\stats\\_axis_nan_policy.py:573: UserWarning: scipy.stats.shapiro: For N > 5000, computed p-value may not be accurate. Current N is 58142.\n",
      "  res = hypotest_fun_out(*samples, **kwds)\n",
      "c:\\Users\\z_user\\anaconda3\\envs\\z_env\\Lib\\site-packages\\scipy\\stats\\_axis_nan_policy.py:573: UserWarning: scipy.stats.shapiro: For N > 5000, computed p-value may not be accurate. Current N is 50327.\n",
      "  res = hypotest_fun_out(*samples, **kwds)\n",
      "c:\\Users\\z_user\\anaconda3\\envs\\z_env\\Lib\\site-packages\\scipy\\stats\\_axis_nan_policy.py:573: UserWarning: scipy.stats.shapiro: For N > 5000, computed p-value may not be accurate. Current N is 138800.\n",
      "  res = hypotest_fun_out(*samples, **kwds)\n",
      "c:\\Users\\z_user\\anaconda3\\envs\\z_env\\Lib\\site-packages\\scipy\\stats\\_axis_nan_policy.py:573: UserWarning: scipy.stats.shapiro: For N > 5000, computed p-value may not be accurate. Current N is 138726.\n",
      "  res = hypotest_fun_out(*samples, **kwds)\n",
      "c:\\Users\\z_user\\anaconda3\\envs\\z_env\\Lib\\site-packages\\scipy\\stats\\_axis_nan_policy.py:573: UserWarning: scipy.stats.shapiro: For N > 5000, computed p-value may not be accurate. Current N is 64424.\n",
      "  res = hypotest_fun_out(*samples, **kwds)\n",
      "c:\\Users\\z_user\\anaconda3\\envs\\z_env\\Lib\\site-packages\\scipy\\stats\\_axis_nan_policy.py:573: UserWarning: scipy.stats.shapiro: For N > 5000, computed p-value may not be accurate. Current N is 64070.\n",
      "  res = hypotest_fun_out(*samples, **kwds)\n",
      "c:\\Users\\z_user\\anaconda3\\envs\\z_env\\Lib\\site-packages\\scipy\\stats\\_axis_nan_policy.py:573: UserWarning: scipy.stats.shapiro: For N > 5000, computed p-value may not be accurate. Current N is 49617.\n",
      "  res = hypotest_fun_out(*samples, **kwds)\n",
      "c:\\Users\\z_user\\anaconda3\\envs\\z_env\\Lib\\site-packages\\scipy\\stats\\_axis_nan_policy.py:573: UserWarning: scipy.stats.shapiro: For N > 5000, computed p-value may not be accurate. Current N is 53777.\n",
      "  res = hypotest_fun_out(*samples, **kwds)\n",
      "c:\\Users\\z_user\\anaconda3\\envs\\z_env\\Lib\\site-packages\\scipy\\stats\\_axis_nan_policy.py:573: UserWarning: scipy.stats.shapiro: For N > 5000, computed p-value may not be accurate. Current N is 53247.\n",
      "  res = hypotest_fun_out(*samples, **kwds)\n",
      "c:\\Users\\z_user\\anaconda3\\envs\\z_env\\Lib\\site-packages\\scipy\\stats\\_axis_nan_policy.py:573: UserWarning: scipy.stats.shapiro: For N > 5000, computed p-value may not be accurate. Current N is 19000.\n",
      "  res = hypotest_fun_out(*samples, **kwds)\n",
      "c:\\Users\\z_user\\anaconda3\\envs\\z_env\\Lib\\site-packages\\scipy\\stats\\_axis_nan_policy.py:573: UserWarning: scipy.stats.shapiro: For N > 5000, computed p-value may not be accurate. Current N is 58044.\n",
      "  res = hypotest_fun_out(*samples, **kwds)\n",
      "c:\\Users\\z_user\\anaconda3\\envs\\z_env\\Lib\\site-packages\\scipy\\stats\\_axis_nan_policy.py:573: UserWarning: scipy.stats.shapiro: For N > 5000, computed p-value may not be accurate. Current N is 36360.\n",
      "  res = hypotest_fun_out(*samples, **kwds)\n",
      "c:\\Users\\z_user\\anaconda3\\envs\\z_env\\Lib\\site-packages\\scipy\\stats\\_axis_nan_policy.py:573: UserWarning: scipy.stats.shapiro: For N > 5000, computed p-value may not be accurate. Current N is 138799.\n",
      "  res = hypotest_fun_out(*samples, **kwds)\n"
     ]
    },
    {
     "name": "stdout",
     "output_type": "stream",
     "text": [
      "Column 'Avg RTT DL (ms)': Filled null values with median.\n",
      "Column 'Avg RTT UL (ms)': Filled null values with median.\n",
      "Column 'TCP DL Retrans. Vol (Bytes)': Filled null values with median.\n",
      "Column 'TCP UL Retrans. Vol (Bytes)': Filled null values with median.\n",
      "Column 'DL TP < 50 Kbps (%)': Filled null values with median.\n",
      "Column '50 Kbps < DL TP < 250 Kbps (%)': Filled null values with median.\n",
      "Column '250 Kbps < DL TP < 1 Mbps (%)': Filled null values with median.\n",
      "Column 'DL TP > 1 Mbps (%)': Filled null values with median.\n",
      "Column 'UL TP < 10 Kbps (%)': Filled null values with median.\n",
      "Column '10 Kbps < UL TP < 50 Kbps (%)': Filled null values with median.\n",
      "Column '50 Kbps < UL TP < 300 Kbps (%)': Filled null values with median.\n",
      "Column 'UL TP > 300 Kbps (%)': Filled null values with median.\n",
      "Column 'HTTP DL (Bytes)': Filled null values with median.\n",
      "Column 'HTTP UL (Bytes)': Filled null values with median.\n",
      "Column 'Nb of sec with 125000B < Vol DL': Filled null values with median.\n",
      "Column 'Nb of sec with 1250B < Vol UL < 6250B': Filled null values with median.\n",
      "Column 'Nb of sec with 31250B < Vol DL < 125000B': Filled null values with median.\n",
      "Column 'Nb of sec with 37500B < Vol UL': Filled null values with median.\n",
      "Column 'Nb of sec with 6250B < Vol DL < 31250B': Filled null values with median.\n",
      "Column 'Nb of sec with 6250B < Vol UL < 37500B': Filled null values with median.\n",
      "Column 'Nb of sec with Vol DL < 6250B': Filled null values with median.\n",
      "Column 'Nb of sec with Vol UL < 1250B': Filled null values with median.\n"
     ]
    }
   ],
   "source": [
    "# Numerical null values are filled based on the outlier and normal distribution\n",
    "# Initialize the NullValueFiller class\n",
    "filler = NullValueFiller(data, null_columns)\n",
    "    \n",
    "# Fill null values based on mean/median decision\n",
    "filler.fill_nulls()"
   ]
  },
  {
   "cell_type": "code",
   "execution_count": 13,
   "metadata": {},
   "outputs": [
    {
     "name": "stdout",
     "output_type": "stream",
     "text": [
      "Bearer Id                                   0\n",
      "Start                                       0\n",
      "Start ms                                    0\n",
      "End                                         0\n",
      "End ms                                      0\n",
      "Dur. (ms)                                   0\n",
      "IMSI                                        0\n",
      "MSISDN/Number                               0\n",
      "IMEI                                        0\n",
      "Last Location Name                          0\n",
      "Avg RTT DL (ms)                             0\n",
      "Avg RTT UL (ms)                             0\n",
      "Avg Bearer TP DL (kbps)                     0\n",
      "Avg Bearer TP UL (kbps)                     0\n",
      "TCP DL Retrans. Vol (Bytes)                 0\n",
      "TCP UL Retrans. Vol (Bytes)                 0\n",
      "DL TP < 50 Kbps (%)                         0\n",
      "50 Kbps < DL TP < 250 Kbps (%)              0\n",
      "250 Kbps < DL TP < 1 Mbps (%)               0\n",
      "DL TP > 1 Mbps (%)                          0\n",
      "UL TP < 10 Kbps (%)                         0\n",
      "10 Kbps < UL TP < 50 Kbps (%)               0\n",
      "50 Kbps < UL TP < 300 Kbps (%)              0\n",
      "UL TP > 300 Kbps (%)                        0\n",
      "HTTP DL (Bytes)                             0\n",
      "HTTP UL (Bytes)                             0\n",
      "Activity Duration DL (ms)                   0\n",
      "Activity Duration UL (ms)                   0\n",
      "Dur. (ms).1                                 0\n",
      "Handset Manufacturer                        0\n",
      "Handset Type                                0\n",
      "Nb of sec with 125000B < Vol DL             0\n",
      "Nb of sec with 1250B < Vol UL < 6250B       0\n",
      "Nb of sec with 31250B < Vol DL < 125000B    0\n",
      "Nb of sec with 37500B < Vol UL              0\n",
      "Nb of sec with 6250B < Vol DL < 31250B      0\n",
      "Nb of sec with 6250B < Vol UL < 37500B      0\n",
      "Nb of sec with Vol DL < 6250B               0\n",
      "Nb of sec with Vol UL < 1250B               0\n",
      "Social Media DL (Bytes)                     0\n",
      "Social Media UL (Bytes)                     0\n",
      "Google DL (Bytes)                           0\n",
      "Google UL (Bytes)                           0\n",
      "Email DL (Bytes)                            0\n",
      "Email UL (Bytes)                            0\n",
      "Youtube DL (Bytes)                          0\n",
      "Youtube UL (Bytes)                          0\n",
      "Netflix DL (Bytes)                          0\n",
      "Netflix UL (Bytes)                          0\n",
      "Gaming DL (Bytes)                           0\n",
      "Gaming UL (Bytes)                           0\n",
      "Other DL (Bytes)                            0\n",
      "Other UL (Bytes)                            0\n",
      "Total UL (Bytes)                            0\n",
      "Total DL (Bytes)                            0\n",
      "dtype: int64\n"
     ]
    }
   ],
   "source": [
    "null_counts = data.isnull().sum()\n",
    "print(null_counts)"
   ]
  },
  {
   "cell_type": "markdown",
   "metadata": {},
   "source": [
    "# Task 2"
   ]
  },
  {
   "cell_type": "markdown",
   "metadata": {},
   "source": [
    "##### Aggregate the metrics per customer id (MSISDN) and report the top 10 customers per engagement metric "
   ]
  },
  {
   "cell_type": "code",
   "execution_count": 14,
   "metadata": {},
   "outputs": [
    {
     "name": "stdout",
     "output_type": "stream",
     "text": [
      "       MSISDN/Number  session_count  total_duration  total_traffic\n",
      "12615   3.362632e+10             18       8791927.0   7.971167e+09\n",
      "5995    3.361489e+10             17       9966898.0   8.846226e+09\n",
      "12296   3.362578e+10             17      18553754.0   8.499621e+09\n",
      "34563   3.365973e+10             16       4035428.0   7.705863e+09\n",
      "71359   3.367588e+10             15       4865947.0   7.891111e+09\n",
      "86820   3.376054e+10             15       9279434.0   8.514774e+09\n",
      "60899   3.366716e+10             13       8744914.0   5.618394e+09\n",
      "606     3.360313e+10             12       6287761.0   4.976195e+09\n",
      "1183    3.360452e+10             12       5207990.0   5.487855e+09\n",
      "13052   3.362708e+10             12       4703516.0   5.754731e+09\n"
     ]
    }
   ],
   "source": [
    "analysis = TelecomEngagementAnalysis(dataframe=data)\n",
    "top_sessions = analysis.get_top_customers(metric='session_count')\n",
    "print(top_sessions)"
   ]
  },
  {
   "cell_type": "markdown",
   "metadata": {},
   "source": [
    "##### Normalize each engagement metric and run a k-means (k=3) to classify customers in three groups of engagement.\n",
    "minimum, maximum, average & total non-normalized metrics for each cluster"
   ]
  },
  {
   "cell_type": "code",
   "execution_count": 15,
   "metadata": {},
   "outputs": [
    {
     "name": "stdout",
     "output_type": "stream",
     "text": [
      "   cluster  min_session_count  max_session_count  avg_session_count  \\\n",
      "0        0                  1                  2           1.043491   \n",
      "1        1                  2                  4           2.178469   \n",
      "2        2                  3                 18           4.249351   \n",
      "\n",
      "   total_session_count  min_total_duration  max_total_duration  \\\n",
      "0                78841              7142.0           1573420.0   \n",
      "1                44236             18235.0           2319813.0   \n",
      "2                16377             46896.0          18553754.0   \n",
      "\n",
      "   avg_total_duration  total_total_duration  min_total_traffic  \\\n",
      "0       105927.018821          8.003316e+09       3.324901e+07   \n",
      "1       212303.181276          4.311028e+09       2.842182e+08   \n",
      "2       556834.878568          2.146042e+09       1.085994e+09   \n",
      "\n",
      "   max_total_traffic  avg_total_traffic  total_total_traffic  \n",
      "0       9.507607e+08       4.952294e+08         3.741706e+13  \n",
      "1       1.873330e+09       1.127716e+09         2.289939e+13  \n",
      "2       8.846226e+09       2.279234e+09         8.784168e+12  \n"
     ]
    }
   ],
   "source": [
    "# clustered data\n",
    "clustered_data, normalized_metrics, kmeans = analysis.normalize_and_cluster()\n",
    "cluster_stats = analysis.compute_cluster_stats(clustered_data)\n",
    "print(cluster_stats)"
   ]
  },
  {
   "cell_type": "code",
   "execution_count": null,
   "metadata": {},
   "outputs": [
    {
     "data": {
      "image/png": "[encoded data removed]",
      "text/plain": [
       "<Figure size 1000x600 with 1 Axes>"
      ]
     },
     "metadata": {},
     "output_type": "display_data"
    }
   ],
   "source": [
    "analysis = TelecomEngagementAnalysis(data)\n",
    "analysis.plot_top_applications()"
   ]
  },
  {
   "cell_type": "code",
   "execution_count": null,
   "metadata": {},
   "outputs": [
    {
     "data": {
      "image/png": "[encoded data removed]",
      "text/plain": [
       "<Figure size 800x550 with 2 Axes>"
      ]
     },
     "metadata": {},
     "output_type": "display_data"
    }
   ],
   "source": [
    "analysis.find_optimal_k()"
   ]
  },
  {
   "cell_type": "code",
   "execution_count": 18,
   "metadata": {},
   "outputs": [
    {
     "name": "stdout",
     "output_type": "stream",
     "text": [
      "{'Social Media DL (Bytes)':        MSISDN/Number  Social Media DL (Bytes)\n",
      "12615   3.362632e+10               42743837.0\n",
      "86820   3.376054e+10               39297646.0\n",
      "34563   3.365973e+10               34900444.0\n",
      "5995    3.361489e+10               27749744.0\n",
      "12296   3.362578e+10               26564121.0\n",
      "60899   3.366716e+10               23753753.0\n",
      "99055   3.378632e+10               23568655.0\n",
      "66348   3.366907e+10               23477047.0\n",
      "606     3.360313e+10               22776679.0\n",
      "56435   3.366553e+10               22240996.0, 'Social Media UL (Bytes)':        MSISDN/Number  Social Media UL (Bytes)\n",
      "12615   3.362632e+10                 630942.0\n",
      "12296   3.362578e+10                 571379.0\n",
      "71359   3.367588e+10                 567557.0\n",
      "5995    3.361489e+10                 544800.0\n",
      "34563   3.365973e+10                 511914.0\n",
      "60899   3.366716e+10                 494097.0\n",
      "86820   3.376054e+10                 485543.0\n",
      "28594   3.365836e+10                 420146.0\n",
      "99055   3.378632e+10                 406264.0\n",
      "58947   3.366646e+10                 395062.0, 'Google DL (Bytes)':        MSISDN/Number  Google DL (Bytes)\n",
      "12615   3.362632e+10        116106455.0\n",
      "12296   3.362578e+10        107904739.0\n",
      "5995    3.361489e+10         93941708.0\n",
      "34563   3.365973e+10         90958549.0\n",
      "86820   3.376054e+10         88626532.0\n",
      "71359   3.367588e+10         83002994.0\n",
      "99055   3.378632e+10         78819810.0\n",
      "606     3.360313e+10         73942055.0\n",
      "88423   3.376127e+10         72949803.0\n",
      "60899   3.366716e+10         71707826.0, 'Google UL (Bytes)':        MSISDN/Number  Google UL (Bytes)\n",
      "12615   3.362632e+10         36085397.0\n",
      "86820   3.376054e+10         34596567.0\n",
      "12296   3.362578e+10         34403176.0\n",
      "5995    3.361489e+10         34032079.0\n",
      "60899   3.366716e+10         33324870.0\n",
      "99055   3.378632e+10         31434674.0\n",
      "71359   3.367588e+10         26857508.0\n",
      "58947   3.366646e+10         26721524.0\n",
      "1183    3.360452e+10         26108889.0\n",
      "34563   3.365973e+10         25557796.0, 'Email DL (Bytes)':        MSISDN/Number  Email DL (Bytes)\n",
      "5995    3.361489e+10        33607211.0\n",
      "12615   3.362632e+10        33404785.0\n",
      "12296   3.362578e+10        31895412.0\n",
      "99055   3.378632e+10        30876908.0\n",
      "34563   3.365973e+10        29907647.0\n",
      "86820   3.376054e+10        26437895.0\n",
      "56200   3.366546e+10        25942871.0\n",
      "71359   3.367588e+10        24284723.0\n",
      "80751   3.369879e+10        24165599.0\n",
      "60899   3.366716e+10        23276752.0, 'Email UL (Bytes)':        MSISDN/Number  Email UL (Bytes)\n",
      "12615   3.362632e+10         9013997.0\n",
      "12296   3.362578e+10         8738554.0\n",
      "86820   3.376054e+10         7255872.0\n",
      "71359   3.367588e+10         7229698.0\n",
      "5995    3.361489e+10         7181423.0\n",
      "60899   3.366716e+10         7059044.0\n",
      "34957   3.365982e+10         6937942.0\n",
      "13052   3.362708e+10         6213264.0\n",
      "53531   3.366471e+10         6212447.0\n",
      "34563   3.365973e+10         6092145.0, 'Youtube DL (Bytes)':        MSISDN/Number  Youtube DL (Bytes)\n",
      "12296   3.362578e+10         237883033.0\n",
      "5995    3.361489e+10         199823443.0\n",
      "86820   3.376054e+10         194068298.0\n",
      "13052   3.362708e+10         187323322.0\n",
      "80751   3.369879e+10         166900329.0\n",
      "12615   3.362632e+10         164048706.0\n",
      "606     3.360313e+10         158976704.0\n",
      "71359   3.367588e+10         158665235.0\n",
      "53531   3.366471e+10         153074482.0\n",
      "34957   3.365982e+10         144048814.0, 'Youtube UL (Bytes)':        MSISDN/Number  Youtube UL (Bytes)\n",
      "12296   3.362578e+10         215075736.0\n",
      "12615   3.362632e+10         210434341.0\n",
      "86820   3.376054e+10         202220900.0\n",
      "5995    3.361489e+10         194546775.0\n",
      "60899   3.366716e+10         173258618.0\n",
      "71359   3.367588e+10         158745337.0\n",
      "28140   3.365826e+10         156540291.0\n",
      "88423   3.376127e+10         153733121.0\n",
      "14610   3.363004e+10         149247942.0\n",
      "28594   3.365836e+10         141610278.0, 'Netflix DL (Bytes)':        MSISDN/Number  Netflix DL (Bytes)\n",
      "12615   3.362632e+10         199479238.0\n",
      "34563   3.365973e+10         196277206.0\n",
      "12296   3.362578e+10         193912238.0\n",
      "5995    3.361489e+10         179585986.0\n",
      "60899   3.366716e+10         167932406.0\n",
      "88423   3.376127e+10         167261139.0\n",
      "99055   3.378632e+10         163602702.0\n",
      "71359   3.367588e+10         161626462.0\n",
      "606     3.360313e+10         156086546.0\n",
      "1183    3.360452e+10         151330389.0, 'Netflix UL (Bytes)':        MSISDN/Number  Netflix UL (Bytes)\n",
      "34563   3.365973e+10         203241873.0\n",
      "86820   3.376054e+10         188142430.0\n",
      "5995    3.361489e+10         181815060.0\n",
      "80751   3.369879e+10         165220233.0\n",
      "12296   3.362578e+10         163068369.0\n",
      "91158   3.376233e+10         150026831.0\n",
      "71359   3.367588e+10         147466697.0\n",
      "60899   3.366716e+10         146007082.0\n",
      "99055   3.378632e+10         142337088.0\n",
      "66348   3.366907e+10         133085331.0, 'Gaming DL (Bytes)':        MSISDN/Number  Gaming DL (Bytes)\n",
      "5995    3.361489e+10       7.622035e+09\n",
      "86820   3.376054e+10       7.316364e+09\n",
      "12296   3.362578e+10       7.171884e+09\n",
      "71359   3.367588e+10       6.863307e+09\n",
      "12615   3.362632e+10       6.745734e+09\n",
      "34563   3.365973e+10       6.609900e+09\n",
      "58947   3.366646e+10       6.546328e+09\n",
      "53531   3.366471e+10       6.013562e+09\n",
      "80751   3.369879e+10       5.641128e+09\n",
      "28594   3.365836e+10       5.628473e+09, 'Gaming UL (Bytes)':        MSISDN/Number  Gaming UL (Bytes)\n",
      "12296   3.362578e+10        154789688.0\n",
      "86820   3.376054e+10        144681056.0\n",
      "12615   3.362632e+10        141838597.0\n",
      "5995    3.361489e+10        127396833.0\n",
      "34563   3.365973e+10        115658741.0\n",
      "80751   3.369879e+10        112614999.0\n",
      "99055   3.378632e+10        110192303.0\n",
      "88423   3.376127e+10        108689309.0\n",
      "71359   3.367588e+10        107260559.0\n",
      "66348   3.366907e+10        102690051.0, 'Other DL (Bytes)':        MSISDN/Number  Other DL (Bytes)\n",
      "12615   3.362632e+10      8.025477e+09\n",
      "5995    3.361489e+10      7.495298e+09\n",
      "71359   3.367588e+10      6.665074e+09\n",
      "606     3.360313e+10      6.222705e+09\n",
      "12296   3.362578e+10      6.201653e+09\n",
      "34563   3.365973e+10      6.182551e+09\n",
      "13052   3.362708e+10      5.039747e+09\n",
      "88423   3.376127e+10      4.997985e+09\n",
      "14610   3.363004e+10      4.906609e+09\n",
      "28594   3.365836e+10      4.905779e+09, 'Other UL (Bytes)':        MSISDN/Number  Other UL (Bytes)\n",
      "12296   3.362578e+10       152930478.0\n",
      "5995    3.361489e+10       143966031.0\n",
      "12615   3.362632e+10       142400945.0\n",
      "34563   3.365973e+10       134864910.0\n",
      "71359   3.367588e+10       133441436.0\n",
      "86820   3.376054e+10       126096213.0\n",
      "53531   3.366471e+10       108323400.0\n",
      "28594   3.365836e+10       107871346.0\n",
      "60899   3.366716e+10       103984990.0\n",
      "606     3.360313e+10       103966155.0}\n"
     ]
    }
   ],
   "source": [
    "top_users_per_app = analysis.traffic_by_application()\n",
    "print(top_users_per_app)"
   ]
  },
  {
   "cell_type": "code",
   "execution_count": null,
   "metadata": {},
   "outputs": [],
   "source": []
  }
 ],
 "metadata": {
  "kernelspec": {
   "display_name": "z_env",
   "language": "python",
   "name": "python3"
  },
  "language_info": {
   "codemirror_mode": {
    "name": "ipython",
    "version": 3
   },
   "file_extension": ".py",
   "mimetype": "text/x-python",
   "name": "python",
   "nbconvert_exporter": "python",
   "pygments_lexer": "ipython3",
   "version": "3.12.7"
  }
 },
 "nbformat": 4,
 "nbformat_minor": 2
}
